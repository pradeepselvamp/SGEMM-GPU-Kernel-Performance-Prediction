{
 "cells": [
  {
   "cell_type": "code",
   "execution_count": 1,
   "metadata": {},
   "outputs": [],
   "source": [
    "import numpy as np\n",
    "import pandas as pd\n",
    "from sklearn.preprocessing import StandardScaler\n",
    "import matplotlib.pyplot as plt\n",
    "from sklearn.model_selection import train_test_split\n",
    "import scipy.stats as stat\n",
    "import seaborn as sb\n",
    "from sklearn.metrics import accuracy_score\n",
    "%matplotlib inline"
   ]
  },
  {
   "cell_type": "code",
   "execution_count": 2,
   "metadata": {},
   "outputs": [],
   "source": [
    "# Importing the dataset\n",
    "dataset = pd.read_csv('../Assignments/sgemm_product_dataset/sgemm_product.csv')"
   ]
  },
  {
   "cell_type": "code",
   "execution_count": 3,
   "metadata": {},
   "outputs": [
    {
     "data": {
      "text/html": [
       "<div>\n",
       "<style scoped>\n",
       "    .dataframe tbody tr th:only-of-type {\n",
       "        vertical-align: middle;\n",
       "    }\n",
       "\n",
       "    .dataframe tbody tr th {\n",
       "        vertical-align: top;\n",
       "    }\n",
       "\n",
       "    .dataframe thead th {\n",
       "        text-align: right;\n",
       "    }\n",
       "</style>\n",
       "<table border=\"1\" class=\"dataframe\">\n",
       "  <thead>\n",
       "    <tr style=\"text-align: right;\">\n",
       "      <th></th>\n",
       "      <th>MWG</th>\n",
       "      <th>NWG</th>\n",
       "      <th>KWG</th>\n",
       "      <th>MDIMC</th>\n",
       "      <th>NDIMC</th>\n",
       "      <th>MDIMA</th>\n",
       "      <th>NDIMB</th>\n",
       "      <th>KWI</th>\n",
       "      <th>VWM</th>\n",
       "      <th>VWN</th>\n",
       "      <th>STRM</th>\n",
       "      <th>STRN</th>\n",
       "      <th>SA</th>\n",
       "      <th>SB</th>\n",
       "      <th>Run1 (ms)</th>\n",
       "      <th>Run2 (ms)</th>\n",
       "      <th>Run3 (ms)</th>\n",
       "      <th>Run4 (ms)</th>\n",
       "    </tr>\n",
       "  </thead>\n",
       "  <tbody>\n",
       "    <tr>\n",
       "      <td>0</td>\n",
       "      <td>16</td>\n",
       "      <td>16</td>\n",
       "      <td>16</td>\n",
       "      <td>8</td>\n",
       "      <td>8</td>\n",
       "      <td>8</td>\n",
       "      <td>8</td>\n",
       "      <td>2</td>\n",
       "      <td>1</td>\n",
       "      <td>1</td>\n",
       "      <td>0</td>\n",
       "      <td>0</td>\n",
       "      <td>0</td>\n",
       "      <td>0</td>\n",
       "      <td>115.26</td>\n",
       "      <td>115.87</td>\n",
       "      <td>118.55</td>\n",
       "      <td>115.80</td>\n",
       "    </tr>\n",
       "    <tr>\n",
       "      <td>1</td>\n",
       "      <td>16</td>\n",
       "      <td>16</td>\n",
       "      <td>16</td>\n",
       "      <td>8</td>\n",
       "      <td>8</td>\n",
       "      <td>8</td>\n",
       "      <td>8</td>\n",
       "      <td>2</td>\n",
       "      <td>1</td>\n",
       "      <td>1</td>\n",
       "      <td>0</td>\n",
       "      <td>0</td>\n",
       "      <td>0</td>\n",
       "      <td>1</td>\n",
       "      <td>78.13</td>\n",
       "      <td>78.25</td>\n",
       "      <td>79.25</td>\n",
       "      <td>79.19</td>\n",
       "    </tr>\n",
       "    <tr>\n",
       "      <td>2</td>\n",
       "      <td>16</td>\n",
       "      <td>16</td>\n",
       "      <td>16</td>\n",
       "      <td>8</td>\n",
       "      <td>8</td>\n",
       "      <td>8</td>\n",
       "      <td>8</td>\n",
       "      <td>2</td>\n",
       "      <td>1</td>\n",
       "      <td>1</td>\n",
       "      <td>0</td>\n",
       "      <td>0</td>\n",
       "      <td>1</td>\n",
       "      <td>0</td>\n",
       "      <td>79.84</td>\n",
       "      <td>80.69</td>\n",
       "      <td>80.76</td>\n",
       "      <td>80.97</td>\n",
       "    </tr>\n",
       "    <tr>\n",
       "      <td>3</td>\n",
       "      <td>16</td>\n",
       "      <td>16</td>\n",
       "      <td>16</td>\n",
       "      <td>8</td>\n",
       "      <td>8</td>\n",
       "      <td>8</td>\n",
       "      <td>8</td>\n",
       "      <td>2</td>\n",
       "      <td>1</td>\n",
       "      <td>1</td>\n",
       "      <td>0</td>\n",
       "      <td>0</td>\n",
       "      <td>1</td>\n",
       "      <td>1</td>\n",
       "      <td>84.32</td>\n",
       "      <td>89.90</td>\n",
       "      <td>86.75</td>\n",
       "      <td>85.58</td>\n",
       "    </tr>\n",
       "    <tr>\n",
       "      <td>4</td>\n",
       "      <td>16</td>\n",
       "      <td>16</td>\n",
       "      <td>16</td>\n",
       "      <td>8</td>\n",
       "      <td>8</td>\n",
       "      <td>8</td>\n",
       "      <td>8</td>\n",
       "      <td>2</td>\n",
       "      <td>1</td>\n",
       "      <td>1</td>\n",
       "      <td>0</td>\n",
       "      <td>1</td>\n",
       "      <td>0</td>\n",
       "      <td>0</td>\n",
       "      <td>115.13</td>\n",
       "      <td>121.98</td>\n",
       "      <td>122.73</td>\n",
       "      <td>114.81</td>\n",
       "    </tr>\n",
       "  </tbody>\n",
       "</table>\n",
       "</div>"
      ],
      "text/plain": [
       "   MWG  NWG  KWG  MDIMC  NDIMC  MDIMA  NDIMB  KWI  VWM  VWN  STRM  STRN  SA  \\\n",
       "0   16   16   16      8      8      8      8    2    1    1     0     0   0   \n",
       "1   16   16   16      8      8      8      8    2    1    1     0     0   0   \n",
       "2   16   16   16      8      8      8      8    2    1    1     0     0   1   \n",
       "3   16   16   16      8      8      8      8    2    1    1     0     0   1   \n",
       "4   16   16   16      8      8      8      8    2    1    1     0     1   0   \n",
       "\n",
       "   SB  Run1 (ms)  Run2 (ms)  Run3 (ms)  Run4 (ms)  \n",
       "0   0     115.26     115.87     118.55     115.80  \n",
       "1   1      78.13      78.25      79.25      79.19  \n",
       "2   0      79.84      80.69      80.76      80.97  \n",
       "3   1      84.32      89.90      86.75      85.58  \n",
       "4   0     115.13     121.98     122.73     114.81  "
      ]
     },
     "execution_count": 3,
     "metadata": {},
     "output_type": "execute_result"
    }
   ],
   "source": [
    "dataset.head()"
   ]
  },
  {
   "cell_type": "code",
   "execution_count": 4,
   "metadata": {},
   "outputs": [
    {
     "data": {
      "text/plain": [
       "(241600, 18)"
      ]
     },
     "execution_count": 4,
     "metadata": {},
     "output_type": "execute_result"
    }
   ],
   "source": [
    "dataset.shape"
   ]
  },
  {
   "cell_type": "code",
   "execution_count": 5,
   "metadata": {},
   "outputs": [
    {
     "data": {
      "text/html": [
       "<div>\n",
       "<style scoped>\n",
       "    .dataframe tbody tr th:only-of-type {\n",
       "        vertical-align: middle;\n",
       "    }\n",
       "\n",
       "    .dataframe tbody tr th {\n",
       "        vertical-align: top;\n",
       "    }\n",
       "\n",
       "    .dataframe thead th {\n",
       "        text-align: right;\n",
       "    }\n",
       "</style>\n",
       "<table border=\"1\" class=\"dataframe\">\n",
       "  <thead>\n",
       "    <tr style=\"text-align: right;\">\n",
       "      <th></th>\n",
       "      <th>MWG</th>\n",
       "      <th>NWG</th>\n",
       "      <th>KWG</th>\n",
       "      <th>MDIMC</th>\n",
       "      <th>NDIMC</th>\n",
       "      <th>MDIMA</th>\n",
       "      <th>NDIMB</th>\n",
       "      <th>KWI</th>\n",
       "      <th>VWM</th>\n",
       "      <th>VWN</th>\n",
       "      <th>STRM</th>\n",
       "      <th>STRN</th>\n",
       "      <th>SA</th>\n",
       "      <th>SB</th>\n",
       "      <th>Run1 (ms)</th>\n",
       "      <th>Run2 (ms)</th>\n",
       "      <th>Run3 (ms)</th>\n",
       "      <th>Run4 (ms)</th>\n",
       "    </tr>\n",
       "  </thead>\n",
       "  <tbody>\n",
       "    <tr>\n",
       "      <td>count</td>\n",
       "      <td>241600.000000</td>\n",
       "      <td>241600.000000</td>\n",
       "      <td>241600.000000</td>\n",
       "      <td>241600.000000</td>\n",
       "      <td>241600.000000</td>\n",
       "      <td>241600.000000</td>\n",
       "      <td>241600.000000</td>\n",
       "      <td>241600.000000</td>\n",
       "      <td>241600.000000</td>\n",
       "      <td>241600.000000</td>\n",
       "      <td>241600.000000</td>\n",
       "      <td>241600.000000</td>\n",
       "      <td>241600.000000</td>\n",
       "      <td>241600.000000</td>\n",
       "      <td>241600.000000</td>\n",
       "      <td>241600.000000</td>\n",
       "      <td>241600.000000</td>\n",
       "      <td>241600.000000</td>\n",
       "    </tr>\n",
       "    <tr>\n",
       "      <td>mean</td>\n",
       "      <td>80.415364</td>\n",
       "      <td>80.415364</td>\n",
       "      <td>25.513113</td>\n",
       "      <td>13.935894</td>\n",
       "      <td>13.935894</td>\n",
       "      <td>17.371126</td>\n",
       "      <td>17.371126</td>\n",
       "      <td>5.000000</td>\n",
       "      <td>2.448609</td>\n",
       "      <td>2.448609</td>\n",
       "      <td>0.500000</td>\n",
       "      <td>0.500000</td>\n",
       "      <td>0.500000</td>\n",
       "      <td>0.500000</td>\n",
       "      <td>217.647852</td>\n",
       "      <td>217.579536</td>\n",
       "      <td>217.532756</td>\n",
       "      <td>217.527669</td>\n",
       "    </tr>\n",
       "    <tr>\n",
       "      <td>std</td>\n",
       "      <td>42.469220</td>\n",
       "      <td>42.469220</td>\n",
       "      <td>7.855619</td>\n",
       "      <td>7.873662</td>\n",
       "      <td>7.873662</td>\n",
       "      <td>9.389418</td>\n",
       "      <td>9.389418</td>\n",
       "      <td>3.000006</td>\n",
       "      <td>1.953759</td>\n",
       "      <td>1.953759</td>\n",
       "      <td>0.500001</td>\n",
       "      <td>0.500001</td>\n",
       "      <td>0.500001</td>\n",
       "      <td>0.500001</td>\n",
       "      <td>369.012422</td>\n",
       "      <td>368.677309</td>\n",
       "      <td>368.655118</td>\n",
       "      <td>368.677413</td>\n",
       "    </tr>\n",
       "    <tr>\n",
       "      <td>min</td>\n",
       "      <td>16.000000</td>\n",
       "      <td>16.000000</td>\n",
       "      <td>16.000000</td>\n",
       "      <td>8.000000</td>\n",
       "      <td>8.000000</td>\n",
       "      <td>8.000000</td>\n",
       "      <td>8.000000</td>\n",
       "      <td>2.000000</td>\n",
       "      <td>1.000000</td>\n",
       "      <td>1.000000</td>\n",
       "      <td>0.000000</td>\n",
       "      <td>0.000000</td>\n",
       "      <td>0.000000</td>\n",
       "      <td>0.000000</td>\n",
       "      <td>13.290000</td>\n",
       "      <td>13.250000</td>\n",
       "      <td>13.360000</td>\n",
       "      <td>13.370000</td>\n",
       "    </tr>\n",
       "    <tr>\n",
       "      <td>25%</td>\n",
       "      <td>32.000000</td>\n",
       "      <td>32.000000</td>\n",
       "      <td>16.000000</td>\n",
       "      <td>8.000000</td>\n",
       "      <td>8.000000</td>\n",
       "      <td>8.000000</td>\n",
       "      <td>8.000000</td>\n",
       "      <td>2.000000</td>\n",
       "      <td>1.000000</td>\n",
       "      <td>1.000000</td>\n",
       "      <td>0.000000</td>\n",
       "      <td>0.000000</td>\n",
       "      <td>0.000000</td>\n",
       "      <td>0.000000</td>\n",
       "      <td>40.660000</td>\n",
       "      <td>40.710000</td>\n",
       "      <td>40.660000</td>\n",
       "      <td>40.640000</td>\n",
       "    </tr>\n",
       "    <tr>\n",
       "      <td>50%</td>\n",
       "      <td>64.000000</td>\n",
       "      <td>64.000000</td>\n",
       "      <td>32.000000</td>\n",
       "      <td>8.000000</td>\n",
       "      <td>8.000000</td>\n",
       "      <td>16.000000</td>\n",
       "      <td>16.000000</td>\n",
       "      <td>5.000000</td>\n",
       "      <td>2.000000</td>\n",
       "      <td>2.000000</td>\n",
       "      <td>0.500000</td>\n",
       "      <td>0.500000</td>\n",
       "      <td>0.500000</td>\n",
       "      <td>0.500000</td>\n",
       "      <td>69.825000</td>\n",
       "      <td>69.930000</td>\n",
       "      <td>69.790000</td>\n",
       "      <td>69.820000</td>\n",
       "    </tr>\n",
       "    <tr>\n",
       "      <td>75%</td>\n",
       "      <td>128.000000</td>\n",
       "      <td>128.000000</td>\n",
       "      <td>32.000000</td>\n",
       "      <td>16.000000</td>\n",
       "      <td>16.000000</td>\n",
       "      <td>32.000000</td>\n",
       "      <td>32.000000</td>\n",
       "      <td>8.000000</td>\n",
       "      <td>4.000000</td>\n",
       "      <td>4.000000</td>\n",
       "      <td>1.000000</td>\n",
       "      <td>1.000000</td>\n",
       "      <td>1.000000</td>\n",
       "      <td>1.000000</td>\n",
       "      <td>228.530000</td>\n",
       "      <td>228.310000</td>\n",
       "      <td>228.320000</td>\n",
       "      <td>228.320000</td>\n",
       "    </tr>\n",
       "    <tr>\n",
       "      <td>max</td>\n",
       "      <td>128.000000</td>\n",
       "      <td>128.000000</td>\n",
       "      <td>32.000000</td>\n",
       "      <td>32.000000</td>\n",
       "      <td>32.000000</td>\n",
       "      <td>32.000000</td>\n",
       "      <td>32.000000</td>\n",
       "      <td>8.000000</td>\n",
       "      <td>8.000000</td>\n",
       "      <td>8.000000</td>\n",
       "      <td>1.000000</td>\n",
       "      <td>1.000000</td>\n",
       "      <td>1.000000</td>\n",
       "      <td>1.000000</td>\n",
       "      <td>3339.630000</td>\n",
       "      <td>3375.420000</td>\n",
       "      <td>3397.080000</td>\n",
       "      <td>3361.710000</td>\n",
       "    </tr>\n",
       "  </tbody>\n",
       "</table>\n",
       "</div>"
      ],
      "text/plain": [
       "                 MWG            NWG            KWG          MDIMC  \\\n",
       "count  241600.000000  241600.000000  241600.000000  241600.000000   \n",
       "mean       80.415364      80.415364      25.513113      13.935894   \n",
       "std        42.469220      42.469220       7.855619       7.873662   \n",
       "min        16.000000      16.000000      16.000000       8.000000   \n",
       "25%        32.000000      32.000000      16.000000       8.000000   \n",
       "50%        64.000000      64.000000      32.000000       8.000000   \n",
       "75%       128.000000     128.000000      32.000000      16.000000   \n",
       "max       128.000000     128.000000      32.000000      32.000000   \n",
       "\n",
       "               NDIMC          MDIMA          NDIMB            KWI  \\\n",
       "count  241600.000000  241600.000000  241600.000000  241600.000000   \n",
       "mean       13.935894      17.371126      17.371126       5.000000   \n",
       "std         7.873662       9.389418       9.389418       3.000006   \n",
       "min         8.000000       8.000000       8.000000       2.000000   \n",
       "25%         8.000000       8.000000       8.000000       2.000000   \n",
       "50%         8.000000      16.000000      16.000000       5.000000   \n",
       "75%        16.000000      32.000000      32.000000       8.000000   \n",
       "max        32.000000      32.000000      32.000000       8.000000   \n",
       "\n",
       "                 VWM            VWN           STRM           STRN  \\\n",
       "count  241600.000000  241600.000000  241600.000000  241600.000000   \n",
       "mean        2.448609       2.448609       0.500000       0.500000   \n",
       "std         1.953759       1.953759       0.500001       0.500001   \n",
       "min         1.000000       1.000000       0.000000       0.000000   \n",
       "25%         1.000000       1.000000       0.000000       0.000000   \n",
       "50%         2.000000       2.000000       0.500000       0.500000   \n",
       "75%         4.000000       4.000000       1.000000       1.000000   \n",
       "max         8.000000       8.000000       1.000000       1.000000   \n",
       "\n",
       "                  SA             SB      Run1 (ms)      Run2 (ms)  \\\n",
       "count  241600.000000  241600.000000  241600.000000  241600.000000   \n",
       "mean        0.500000       0.500000     217.647852     217.579536   \n",
       "std         0.500001       0.500001     369.012422     368.677309   \n",
       "min         0.000000       0.000000      13.290000      13.250000   \n",
       "25%         0.000000       0.000000      40.660000      40.710000   \n",
       "50%         0.500000       0.500000      69.825000      69.930000   \n",
       "75%         1.000000       1.000000     228.530000     228.310000   \n",
       "max         1.000000       1.000000    3339.630000    3375.420000   \n",
       "\n",
       "           Run3 (ms)      Run4 (ms)  \n",
       "count  241600.000000  241600.000000  \n",
       "mean      217.532756     217.527669  \n",
       "std       368.655118     368.677413  \n",
       "min        13.360000      13.370000  \n",
       "25%        40.660000      40.640000  \n",
       "50%        69.790000      69.820000  \n",
       "75%       228.320000     228.320000  \n",
       "max      3397.080000    3361.710000  "
      ]
     },
     "execution_count": 5,
     "metadata": {},
     "output_type": "execute_result"
    }
   ],
   "source": [
    "dataset.describe()"
   ]
  },
  {
   "cell_type": "code",
   "execution_count": 6,
   "metadata": {},
   "outputs": [],
   "source": [
    "#datasetexp3 = sgemm2[\"MWG\", \"KWG\",\"MDIMC\", \"MDIMA\", \"KWI\", \"VMN\", \"STRN\", \"SA\", \"avg_runtime\"]"
   ]
  },
  {
   "cell_type": "code",
   "execution_count": 7,
   "metadata": {},
   "outputs": [
    {
     "data": {
      "image/png": "[encoded data removed]",
      "text/plain": [
       "<Figure size 1224x1224 with 20 Axes>"
      ]
     },
     "metadata": {
      "needs_background": "light"
     },
     "output_type": "display_data"
    }
   ],
   "source": [
    "dataset['avg_runtime'] = dataset.iloc[:,14:18].mean(axis=1)\n",
    "#taking mean of 4 variables\n",
    "sgemm = pd.DataFrame(dataset)\n",
    "sgemm\n",
    "sgemm['avg_runtime'] = sgemm.iloc[:,14:18].mean(axis=1)\n",
    "sgemm.hist(bins = 6 , figsize=(17,17), color = 'maroon');"
   ]
  },
  {
   "cell_type": "code",
   "execution_count": 8,
   "metadata": {},
   "outputs": [
    {
     "data": {
      "text/plain": [
       "Text(0.5, 0, 'Average Runtime')"
      ]
     },
     "execution_count": 8,
     "metadata": {},
     "output_type": "execute_result"
    },
    {
     "data": {
      "image/png": "[encoded data removed]",
      "text/plain": [
       "<Figure size 792x576 with 1 Axes>"
      ]
     },
     "metadata": {
      "needs_background": "light"
     },
     "output_type": "display_data"
    }
   ],
   "source": [
    "#boxplot\n",
    "plt.figure(figsize=(11,8))\n",
    "sb.boxplot(x=\"avg_runtime\", data=sgemm)\n",
    "plt.xlabel('Average Runtime', fontsize=14)"
   ]
  },
  {
   "cell_type": "code",
   "execution_count": 9,
   "metadata": {},
   "outputs": [
    {
     "data": {
      "image/png": "[encoded data removed]",
      "text/plain": [
       "<Figure size 1296x1296 with 2 Axes>"
      ]
     },
     "metadata": {
      "needs_background": "light"
     },
     "output_type": "display_data"
    }
   ],
   "source": [
    "#Plotting correlation matrix\n",
    "sgemmvar = ['MWG', 'NWG', 'KWG', 'MDIMC', 'NDIMC', 'MDIMA', 'NDIMB', 'KWI', 'VWM',\n",
    "       'VWN', 'STRM', 'STRN', 'SA', 'SB', 'avg_runtime']\n",
    "sgemmcorr= sgemm[sgemmvar]\n",
    "corr=sgemmcorr.corr()\n",
    "plt.figure(figsize = (18,18))\n",
    "sb.set(font_scale=1)\n",
    "sb.heatmap(corr, cbar = True, annot=True, square = True, fmt = '.2f', xticklabels=sgemmvar, yticklabels=sgemmvar, cmap=\"Blues\",)\n",
    "plt.show();"
   ]
  },
  {
   "cell_type": "code",
   "execution_count": 10,
   "metadata": {},
   "outputs": [
    {
     "name": "stdout",
     "output_type": "stream",
     "text": [
      "<class 'pandas.core.frame.DataFrame'>\n",
      "Int64Index: 229520 entries, 0 to 241598\n",
      "Data columns (total 19 columns):\n",
      "MWG            229520 non-null int64\n",
      "NWG            229520 non-null int64\n",
      "KWG            229520 non-null int64\n",
      "MDIMC          229520 non-null int64\n",
      "NDIMC          229520 non-null int64\n",
      "MDIMA          229520 non-null int64\n",
      "NDIMB          229520 non-null int64\n",
      "KWI            229520 non-null int64\n",
      "VWM            229520 non-null int64\n",
      "VWN            229520 non-null int64\n",
      "STRM           229520 non-null int64\n",
      "STRN           229520 non-null int64\n",
      "SA             229520 non-null int64\n",
      "SB             229520 non-null int64\n",
      "Run1 (ms)      229520 non-null float64\n",
      "Run2 (ms)      229520 non-null float64\n",
      "Run3 (ms)      229520 non-null float64\n",
      "Run4 (ms)      229520 non-null float64\n",
      "avg_runtime    229520 non-null float64\n",
      "dtypes: float64(5), int64(14)\n",
      "memory usage: 35.0 MB\n"
     ]
    }
   ],
   "source": [
    "#Taking 2sigmas\n",
    "sgemm1 = sgemm.drop(sgemm[(sgemm.avg_runtime>sgemm.avg_runtime.quantile(0.975))].index)\n",
    "sgemm2 = sgemm1.drop(sgemm1[(sgemm1.avg_runtime<sgemm.avg_runtime.quantile(0.025))].index) \n",
    "sgemm2.info()"
   ]
  },
  {
   "cell_type": "code",
   "execution_count": 11,
   "metadata": {},
   "outputs": [
    {
     "data": {
      "text/html": [
       "<div>\n",
       "<style scoped>\n",
       "    .dataframe tbody tr th:only-of-type {\n",
       "        vertical-align: middle;\n",
       "    }\n",
       "\n",
       "    .dataframe tbody tr th {\n",
       "        vertical-align: top;\n",
       "    }\n",
       "\n",
       "    .dataframe thead th {\n",
       "        text-align: right;\n",
       "    }\n",
       "</style>\n",
       "<table border=\"1\" class=\"dataframe\">\n",
       "  <thead>\n",
       "    <tr style=\"text-align: right;\">\n",
       "      <th></th>\n",
       "      <th>MWG</th>\n",
       "      <th>NWG</th>\n",
       "      <th>KWG</th>\n",
       "      <th>MDIMC</th>\n",
       "      <th>NDIMC</th>\n",
       "      <th>MDIMA</th>\n",
       "      <th>NDIMB</th>\n",
       "      <th>KWI</th>\n",
       "      <th>VWM</th>\n",
       "      <th>VWN</th>\n",
       "      <th>STRM</th>\n",
       "      <th>STRN</th>\n",
       "      <th>SA</th>\n",
       "      <th>SB</th>\n",
       "      <th>Run1 (ms)</th>\n",
       "      <th>Run2 (ms)</th>\n",
       "      <th>Run3 (ms)</th>\n",
       "      <th>Run4 (ms)</th>\n",
       "      <th>avg_runtime</th>\n",
       "    </tr>\n",
       "  </thead>\n",
       "  <tbody>\n",
       "    <tr>\n",
       "      <td>count</td>\n",
       "      <td>229520.000000</td>\n",
       "      <td>229520.000000</td>\n",
       "      <td>229520.000000</td>\n",
       "      <td>229520.000000</td>\n",
       "      <td>229520.000000</td>\n",
       "      <td>229520.000000</td>\n",
       "      <td>229520.000000</td>\n",
       "      <td>229520.000000</td>\n",
       "      <td>229520.000000</td>\n",
       "      <td>229520.000000</td>\n",
       "      <td>229520.000000</td>\n",
       "      <td>229520.000000</td>\n",
       "      <td>229520.000000</td>\n",
       "      <td>229520.000000</td>\n",
       "      <td>229520.000000</td>\n",
       "      <td>229520.000000</td>\n",
       "      <td>229520.000000</td>\n",
       "      <td>229520.000000</td>\n",
       "      <td>229520.000000</td>\n",
       "    </tr>\n",
       "    <tr>\n",
       "      <td>mean</td>\n",
       "      <td>79.503799</td>\n",
       "      <td>79.212130</td>\n",
       "      <td>25.532659</td>\n",
       "      <td>14.048100</td>\n",
       "      <td>13.960404</td>\n",
       "      <td>17.282921</td>\n",
       "      <td>17.278913</td>\n",
       "      <td>4.984864</td>\n",
       "      <td>2.429078</td>\n",
       "      <td>2.417005</td>\n",
       "      <td>0.495674</td>\n",
       "      <td>0.498671</td>\n",
       "      <td>0.481322</td>\n",
       "      <td>0.486171</td>\n",
       "      <td>176.062995</td>\n",
       "      <td>176.046375</td>\n",
       "      <td>176.002530</td>\n",
       "      <td>175.993503</td>\n",
       "      <td>176.026351</td>\n",
       "    </tr>\n",
       "    <tr>\n",
       "      <td>std</td>\n",
       "      <td>42.590214</td>\n",
       "      <td>42.551021</td>\n",
       "      <td>7.851829</td>\n",
       "      <td>7.884239</td>\n",
       "      <td>7.836359</td>\n",
       "      <td>9.366788</td>\n",
       "      <td>9.365922</td>\n",
       "      <td>2.999968</td>\n",
       "      <td>1.951373</td>\n",
       "      <td>1.942145</td>\n",
       "      <td>0.499982</td>\n",
       "      <td>0.499999</td>\n",
       "      <td>0.499652</td>\n",
       "      <td>0.499810</td>\n",
       "      <td>223.598338</td>\n",
       "      <td>223.383485</td>\n",
       "      <td>223.381709</td>\n",
       "      <td>223.381412</td>\n",
       "      <td>223.430831</td>\n",
       "    </tr>\n",
       "    <tr>\n",
       "      <td>min</td>\n",
       "      <td>16.000000</td>\n",
       "      <td>16.000000</td>\n",
       "      <td>16.000000</td>\n",
       "      <td>8.000000</td>\n",
       "      <td>8.000000</td>\n",
       "      <td>8.000000</td>\n",
       "      <td>8.000000</td>\n",
       "      <td>2.000000</td>\n",
       "      <td>1.000000</td>\n",
       "      <td>1.000000</td>\n",
       "      <td>0.000000</td>\n",
       "      <td>0.000000</td>\n",
       "      <td>0.000000</td>\n",
       "      <td>0.000000</td>\n",
       "      <td>22.310000</td>\n",
       "      <td>22.110000</td>\n",
       "      <td>22.620000</td>\n",
       "      <td>22.340000</td>\n",
       "      <td>23.430000</td>\n",
       "    </tr>\n",
       "    <tr>\n",
       "      <td>25%</td>\n",
       "      <td>32.000000</td>\n",
       "      <td>32.000000</td>\n",
       "      <td>16.000000</td>\n",
       "      <td>8.000000</td>\n",
       "      <td>8.000000</td>\n",
       "      <td>8.000000</td>\n",
       "      <td>8.000000</td>\n",
       "      <td>2.000000</td>\n",
       "      <td>1.000000</td>\n",
       "      <td>1.000000</td>\n",
       "      <td>0.000000</td>\n",
       "      <td>0.000000</td>\n",
       "      <td>0.000000</td>\n",
       "      <td>0.000000</td>\n",
       "      <td>41.400000</td>\n",
       "      <td>41.470000</td>\n",
       "      <td>41.410000</td>\n",
       "      <td>41.380000</td>\n",
       "      <td>41.410000</td>\n",
       "    </tr>\n",
       "    <tr>\n",
       "      <td>50%</td>\n",
       "      <td>64.000000</td>\n",
       "      <td>64.000000</td>\n",
       "      <td>32.000000</td>\n",
       "      <td>8.000000</td>\n",
       "      <td>8.000000</td>\n",
       "      <td>16.000000</td>\n",
       "      <td>16.000000</td>\n",
       "      <td>2.000000</td>\n",
       "      <td>2.000000</td>\n",
       "      <td>2.000000</td>\n",
       "      <td>0.000000</td>\n",
       "      <td>0.000000</td>\n",
       "      <td>0.000000</td>\n",
       "      <td>0.000000</td>\n",
       "      <td>69.825000</td>\n",
       "      <td>69.930000</td>\n",
       "      <td>69.790000</td>\n",
       "      <td>69.820000</td>\n",
       "      <td>69.790000</td>\n",
       "    </tr>\n",
       "    <tr>\n",
       "      <td>75%</td>\n",
       "      <td>128.000000</td>\n",
       "      <td>128.000000</td>\n",
       "      <td>32.000000</td>\n",
       "      <td>16.000000</td>\n",
       "      <td>16.000000</td>\n",
       "      <td>32.000000</td>\n",
       "      <td>32.000000</td>\n",
       "      <td>8.000000</td>\n",
       "      <td>4.000000</td>\n",
       "      <td>4.000000</td>\n",
       "      <td>1.000000</td>\n",
       "      <td>1.000000</td>\n",
       "      <td>1.000000</td>\n",
       "      <td>1.000000</td>\n",
       "      <td>217.010000</td>\n",
       "      <td>216.250000</td>\n",
       "      <td>216.270000</td>\n",
       "      <td>216.330000</td>\n",
       "      <td>216.623125</td>\n",
       "    </tr>\n",
       "    <tr>\n",
       "      <td>max</td>\n",
       "      <td>128.000000</td>\n",
       "      <td>128.000000</td>\n",
       "      <td>32.000000</td>\n",
       "      <td>32.000000</td>\n",
       "      <td>32.000000</td>\n",
       "      <td>32.000000</td>\n",
       "      <td>32.000000</td>\n",
       "      <td>8.000000</td>\n",
       "      <td>8.000000</td>\n",
       "      <td>8.000000</td>\n",
       "      <td>1.000000</td>\n",
       "      <td>1.000000</td>\n",
       "      <td>1.000000</td>\n",
       "      <td>1.000000</td>\n",
       "      <td>1176.460000</td>\n",
       "      <td>1174.300000</td>\n",
       "      <td>1173.700000</td>\n",
       "      <td>1173.470000</td>\n",
       "      <td>1170.632500</td>\n",
       "    </tr>\n",
       "  </tbody>\n",
       "</table>\n",
       "</div>"
      ],
      "text/plain": [
       "                 MWG            NWG            KWG          MDIMC  \\\n",
       "count  229520.000000  229520.000000  229520.000000  229520.000000   \n",
       "mean       79.503799      79.212130      25.532659      14.048100   \n",
       "std        42.590214      42.551021       7.851829       7.884239   \n",
       "min        16.000000      16.000000      16.000000       8.000000   \n",
       "25%        32.000000      32.000000      16.000000       8.000000   \n",
       "50%        64.000000      64.000000      32.000000       8.000000   \n",
       "75%       128.000000     128.000000      32.000000      16.000000   \n",
       "max       128.000000     128.000000      32.000000      32.000000   \n",
       "\n",
       "               NDIMC          MDIMA          NDIMB            KWI  \\\n",
       "count  229520.000000  229520.000000  229520.000000  229520.000000   \n",
       "mean       13.960404      17.282921      17.278913       4.984864   \n",
       "std         7.836359       9.366788       9.365922       2.999968   \n",
       "min         8.000000       8.000000       8.000000       2.000000   \n",
       "25%         8.000000       8.000000       8.000000       2.000000   \n",
       "50%         8.000000      16.000000      16.000000       2.000000   \n",
       "75%        16.000000      32.000000      32.000000       8.000000   \n",
       "max        32.000000      32.000000      32.000000       8.000000   \n",
       "\n",
       "                 VWM            VWN           STRM           STRN  \\\n",
       "count  229520.000000  229520.000000  229520.000000  229520.000000   \n",
       "mean        2.429078       2.417005       0.495674       0.498671   \n",
       "std         1.951373       1.942145       0.499982       0.499999   \n",
       "min         1.000000       1.000000       0.000000       0.000000   \n",
       "25%         1.000000       1.000000       0.000000       0.000000   \n",
       "50%         2.000000       2.000000       0.000000       0.000000   \n",
       "75%         4.000000       4.000000       1.000000       1.000000   \n",
       "max         8.000000       8.000000       1.000000       1.000000   \n",
       "\n",
       "                  SA             SB      Run1 (ms)      Run2 (ms)  \\\n",
       "count  229520.000000  229520.000000  229520.000000  229520.000000   \n",
       "mean        0.481322       0.486171     176.062995     176.046375   \n",
       "std         0.499652       0.499810     223.598338     223.383485   \n",
       "min         0.000000       0.000000      22.310000      22.110000   \n",
       "25%         0.000000       0.000000      41.400000      41.470000   \n",
       "50%         0.000000       0.000000      69.825000      69.930000   \n",
       "75%         1.000000       1.000000     217.010000     216.250000   \n",
       "max         1.000000       1.000000    1176.460000    1174.300000   \n",
       "\n",
       "           Run3 (ms)      Run4 (ms)    avg_runtime  \n",
       "count  229520.000000  229520.000000  229520.000000  \n",
       "mean      176.002530     175.993503     176.026351  \n",
       "std       223.381709     223.381412     223.430831  \n",
       "min        22.620000      22.340000      23.430000  \n",
       "25%        41.410000      41.380000      41.410000  \n",
       "50%        69.790000      69.820000      69.790000  \n",
       "75%       216.270000     216.330000     216.623125  \n",
       "max      1173.700000    1173.470000    1170.632500  "
      ]
     },
     "execution_count": 11,
     "metadata": {},
     "output_type": "execute_result"
    }
   ],
   "source": [
    "sgemm2.describe()"
   ]
  },
  {
   "cell_type": "code",
   "execution_count": 12,
   "metadata": {},
   "outputs": [],
   "source": [
    "data_np = sgemm2.values"
   ]
  },
  {
   "cell_type": "code",
   "execution_count": 13,
   "metadata": {},
   "outputs": [
    {
     "data": {
      "text/plain": [
       "numpy.ndarray"
      ]
     },
     "execution_count": 13,
     "metadata": {},
     "output_type": "execute_result"
    }
   ],
   "source": [
    "type(data_np)"
   ]
  },
  {
   "cell_type": "code",
   "execution_count": 14,
   "metadata": {},
   "outputs": [],
   "source": [
    "x = data_np[:,:-5]"
   ]
  },
  {
   "cell_type": "code",
   "execution_count": 15,
   "metadata": {},
   "outputs": [
    {
     "data": {
      "text/plain": [
       "array([[ 16.,  16.,  16., ...,   0.,   0.,   0.],\n",
       "       [ 16.,  16.,  16., ...,   0.,   0.,   1.],\n",
       "       [ 16.,  16.,  16., ...,   0.,   1.,   0.],\n",
       "       ...,\n",
       "       [128., 128.,  32., ...,   1.,   0.,   0.],\n",
       "       [128., 128.,  32., ...,   1.,   0.,   1.],\n",
       "       [128., 128.,  32., ...,   1.,   1.,   0.]])"
      ]
     },
     "execution_count": 15,
     "metadata": {},
     "output_type": "execute_result"
    }
   ],
   "source": [
    "x"
   ]
  },
  {
   "cell_type": "code",
   "execution_count": 16,
   "metadata": {},
   "outputs": [],
   "source": [
    "y = np.mean(data_np[:,-1:], axis=1)"
   ]
  },
  {
   "cell_type": "code",
   "execution_count": 17,
   "metadata": {},
   "outputs": [
    {
     "data": {
      "text/plain": [
       "DescribeResult(nobs=229520, minmax=(23.43, 1170.6325000000002), mean=176.02635069928547, variance=49921.33640154747, skewness=2.224028260354725, kurtosis=4.7295163406567715)"
      ]
     },
     "execution_count": 17,
     "metadata": {},
     "output_type": "execute_result"
    }
   ],
   "source": [
    "stat.describe(y)"
   ]
  },
  {
   "cell_type": "code",
   "execution_count": 18,
   "metadata": {},
   "outputs": [],
   "source": [
    "y = np.expand_dims(y,axis=1)"
   ]
  },
  {
   "cell_type": "markdown",
   "metadata": {},
   "source": [
    "# LINEAR REGRESSION"
   ]
  },
  {
   "cell_type": "code",
   "execution_count": 19,
   "metadata": {},
   "outputs": [],
   "source": [
    "scaler = StandardScaler()"
   ]
  },
  {
   "cell_type": "code",
   "execution_count": 20,
   "metadata": {},
   "outputs": [],
   "source": [
    "x1_train, x1_test, y1_train, y1_test = train_test_split(x, y, test_size = 0.3, random_state = 0)"
   ]
  },
  {
   "cell_type": "code",
   "execution_count": 21,
   "metadata": {},
   "outputs": [
    {
     "data": {
      "text/plain": [
       "(160664, 1)"
      ]
     },
     "execution_count": 21,
     "metadata": {},
     "output_type": "execute_result"
    }
   ],
   "source": [
    "y1_train.shape"
   ]
  },
  {
   "cell_type": "code",
   "execution_count": 22,
   "metadata": {},
   "outputs": [],
   "source": [
    "x1_train=scaler.fit_transform(x1_train)\n",
    "x1_test=scaler.transform(x1_test)"
   ]
  },
  {
   "cell_type": "code",
   "execution_count": 23,
   "metadata": {},
   "outputs": [],
   "source": [
    "#x_scaled = scaler.fit_transform(x)"
   ]
  },
  {
   "cell_type": "markdown",
   "metadata": {},
   "source": [
    "#Implementing Linear Regression using Gradient Descent Algorithm"
   ]
  },
  {
   "cell_type": "code",
   "execution_count": 24,
   "metadata": {},
   "outputs": [],
   "source": [
    "class LinearRegressor(object):\n",
    "    def __init__(self, num_features):\n",
    "        self.num_features = num_features\n",
    "        self.w = np.zeros((num_features,1), dtype=np.float64)\n",
    "        self.b= np.zeros(1, dtype=np.float64)\n",
    "\n",
    "\n",
    "    def forward(self, x):\n",
    "        return np.dot(x, self.w) + self.b\n",
    "\n",
    "#     @staticmethod\n",
    "#     def loss(y_pred, y_true):\n",
    "#         l = (np.sum(np.power(y_pred - y_true, 2))) / (2*len(y_true))\n",
    "#         return l\n",
    "    \n",
    "    @staticmethod\n",
    "    def loss(y_pred, y_true):\n",
    "        l = y_pred - y_true\n",
    "        l = np.dot(l.T, l)\n",
    "        l = l/(2*len(y_true))\n",
    "        return np.squeeze(l)\n",
    "        \n",
    "    def calculate_gradients(self, x, y_pred, y_true):\n",
    "        self.dl_dw = np.dot(x.T, y_pred - y_true) / len(x)\n",
    "        self.dl_db = np.mean(y_pred - y_true)\n",
    "\n",
    "    def optimize(self, step_size):\n",
    "        self.w -= step_size*self.dl_dw\n",
    "        self.b -= step_size*self.dl_db\n",
    "\n",
    "    def train(self, x, y, step_size=1.0):\n",
    "        y_pred = self.forward(x)\n",
    "        l = self.loss(y_pred=y_pred, y_true=y)\n",
    "        self.calculate_gradients(x=x, y_pred=y_pred, y_true=y)\n",
    "        self.optimize(step_size=step_size)\n",
    "        return l\n",
    "\n",
    "    def evaluate(self, x, y):\n",
    "        losscal = self.loss(self.forward(x), y)\n",
    "        rmse = (losscal*2)**(1/2)\n",
    "        return rmse\n"
   ]
  },
  {
   "cell_type": "code",
   "execution_count": 25,
   "metadata": {},
   "outputs": [],
   "source": [
    "### To calculate MSE and R-Squared\n",
    "\n",
    "def mse(ytrue, ypred):\n",
    "    rmse = (sum((ytrue - ypred) **2) / len(ytrue));\n",
    "    return rmse;\n",
    "\n",
    "\n",
    "def rsquared(ytrue, ypred):\n",
    "    targetmean = np.mean(ytrue);\n",
    "    totalsse = np.sum((ytrue - targetmean)**2);\n",
    "    residualsse = np.sum((ytrue - ypred)**2);\n",
    "    rsquared = 1 - (residualsse / totalsse);\n",
    "    return rsquared;"
   ]
  },
  {
   "cell_type": "markdown",
   "metadata": {},
   "source": [
    "#Implementing Linear Regression using Gradient Descent Algorithm for Different Learning Rate at a Threshold Value of 0"
   ]
  },
  {
   "cell_type": "markdown",
   "metadata": {},
   "source": [
    "#Learning Rate alpha = 0.1"
   ]
  },
  {
   "cell_type": "code",
   "execution_count": 26,
   "metadata": {},
   "outputs": [
    {
     "name": "stdout",
     "output_type": "stream",
     "text": [
      "Threshold: 0 \n",
      "\n",
      "Loss Function Converges at 327 \n",
      "\n",
      "Model Loss:  12783.82512189654 \n",
      "\n",
      "Model Weights: \n",
      "[[-1.98610089e-06]\n",
      " [-1.66322935e-06]\n",
      " [-1.28668869e-06]\n",
      " [ 2.18159819e-06]\n",
      " [ 2.09447475e-06]\n",
      " [ 2.02390600e-07]\n",
      " [ 1.03939650e-08]\n",
      " [-3.66493935e-08]\n",
      " [ 1.90472249e-06]\n",
      " [ 1.59976405e-06]\n",
      " [ 2.62879999e-08]\n",
      " [-1.42550481e-09]\n",
      " [-8.31686071e-08]\n",
      " [-7.21644859e-08]]\n",
      "Model Bias: \n",
      "-2.0664364508240162e-13\n",
      "alpha: 0.1\n"
     ]
    },
    {
     "data": {
      "image/png": "[encoded data removed]",
      "text/plain": [
       "<Figure size 432x288 with 1 Axes>"
      ]
     },
     "metadata": {},
     "output_type": "display_data"
    },
    {
     "name": "stdout",
     "output_type": "stream",
     "text": [
      "CPU times: user 3.61 s, sys: 89 ms, total: 3.7 s\n",
      "Wall time: 974 ms\n"
     ]
    }
   ],
   "source": [
    "%%time\n",
    "regressor = LinearRegressor(num_features=x1_train.shape[1])\n",
    "#print(regressor.w)\n",
    "#print(regressor.b)\n",
    "losses = []\n",
    "for iteration in range(50000):\n",
    "    loss = regressor.train(x=x1_train,y=y1_train, step_size=0.1)\n",
    "    losses.append(loss)\n",
    "    k=0;\n",
    "    if iteration > 2:\n",
    "        c = abs(losses[iteration-1] - losses[iteration])\n",
    "        if c <= k:\n",
    "            print(\"Threshold:\",k,'\\n')\n",
    "            print(\"Loss Function Converges at\", iteration,'\\n')\n",
    "            print('Model Loss: ', losses[iteration], '\\n')\n",
    "            break\n",
    "\n",
    "print('Model Weights: ');\n",
    "print(regressor.dl_dw);\n",
    "print('Model Bias: ');\n",
    "print(regressor.dl_db)\n",
    "print('alpha:',0.1);\n",
    "plot01 = losses\n",
    "plt.plot(range(len(losses)), losses)\n",
    "plt.xlabel(\"Number of iterations\") \n",
    "plt.ylabel(\"Cost\") \n",
    "plt.show()"
   ]
  },
  {
   "cell_type": "code",
   "execution_count": 27,
   "metadata": {},
   "outputs": [
    {
     "name": "stdout",
     "output_type": "stream",
     "text": [
      "Test Data: RMSE for Alpha 0.1: 159.46933920863577 \n",
      "\n",
      "Train Data: RMSE for Alpha 0.1: 159.89887505480792 \n",
      "\n",
      "R-Squared: 0.4881561207825281 \n",
      "\n"
     ]
    }
   ],
   "source": [
    "msetest1 = regressor.evaluate(x=x1_test, y=y1_test)\n",
    "msetrial1 = regressor.evaluate(x=x1_train, y=y1_train)\n",
    "print('Test Data: RMSE for Alpha 0.1:', msetest1,'\\n')\n",
    "print('Train Data: RMSE for Alpha 0.1:', msetrial1,'\\n')\n",
    "print('R-Squared:', rsquared(y1_test,regressor.forward(x1_test)), '\\n')"
   ]
  },
  {
   "cell_type": "markdown",
   "metadata": {},
   "source": [
    "#Learning Rate alpha = 0.01"
   ]
  },
  {
   "cell_type": "code",
   "execution_count": 28,
   "metadata": {},
   "outputs": [
    {
     "name": "stdout",
     "output_type": "stream",
     "text": [
      "Threshold: 0 \n",
      "\n",
      "Loss Function Converges at 3017 \n",
      "\n",
      "Model Loss:  12783.825121897129 \n",
      "\n",
      "Model Weights: \n",
      "[[-9.90288951e-06]\n",
      " [-8.38927603e-06]\n",
      " [-6.54742981e-06]\n",
      " [ 1.10548705e-05]\n",
      " [ 1.06435216e-05]\n",
      " [ 9.02251309e-07]\n",
      " [ 1.83333306e-08]\n",
      " [-1.85625481e-07]\n",
      " [ 9.48330849e-06]\n",
      " [ 8.06670763e-06]\n",
      " [ 1.34271260e-07]\n",
      " [-6.68530045e-09]\n",
      " [-4.21501155e-07]\n",
      " [-3.65007638e-07]]\n",
      "Model Bias: \n",
      "-1.2000513812766117e-11\n",
      "alpha: 0.01\n"
     ]
    },
    {
     "data": {
      "image/png": "[encoded data removed]",
      "text/plain": [
       "<Figure size 432x288 with 1 Axes>"
      ]
     },
     "metadata": {},
     "output_type": "display_data"
    },
    {
     "name": "stdout",
     "output_type": "stream",
     "text": [
      "CPU times: user 24.1 s, sys: 197 ms, total: 24.3 s\n",
      "Wall time: 6.25 s\n"
     ]
    }
   ],
   "source": [
    "%%time\n",
    "regressor = LinearRegressor(num_features=x1_train.shape[1])\n",
    "#print(regressor.w)\n",
    "#print(regressor.b)\n",
    "losses = []\n",
    "for iteration in range(50000):\n",
    "    loss = regressor.train(x=x1_train,y=y1_train, step_size=0.01)\n",
    "    losses.append(loss)\n",
    "    k=0;\n",
    "    if iteration > 2:\n",
    "        c = abs(losses[iteration-1] - losses[iteration])\n",
    "        if c <= k:\n",
    "            print(\"Threshold:\",k,'\\n')\n",
    "            print(\"Loss Function Converges at\", iteration,'\\n')\n",
    "            print('Model Loss: ', losses[iteration], '\\n')\n",
    "            break\n",
    "\n",
    "print('Model Weights: ');\n",
    "print(regressor.dl_dw);\n",
    "print('Model Bias: ');\n",
    "print(regressor.dl_db)\n",
    "print('alpha:',0.01);\n",
    "plot001 = losses\n",
    "plt.plot(range(len(losses)), losses)\n",
    "plt.xlabel(\"Number of iterations\") \n",
    "plt.ylabel(\"Cost\") \n",
    "plt.show()"
   ]
  },
  {
   "cell_type": "code",
   "execution_count": 29,
   "metadata": {},
   "outputs": [
    {
     "name": "stdout",
     "output_type": "stream",
     "text": [
      "Test Data: RMSE for Alpha 0.01: 159.4693390170695 \n",
      "\n",
      "Trial Data: RMSE for Alpha 0.01: 159.89887505481155 \n",
      "\n"
     ]
    }
   ],
   "source": [
    "msetest2 = regressor.evaluate(x=x1_test, y=y1_test)\n",
    "msetrial2 = regressor.evaluate(x=x1_train, y=y1_train)\n",
    "print('Test Data: RMSE for Alpha 0.01:', msetest2,'\\n')\n",
    "print('Trial Data: RMSE for Alpha 0.01:', msetrial2,'\\n')"
   ]
  },
  {
   "cell_type": "markdown",
   "metadata": {},
   "source": [
    "#Learning Rate alpha = 0.001"
   ]
  },
  {
   "cell_type": "code",
   "execution_count": 30,
   "metadata": {},
   "outputs": [
    {
     "name": "stdout",
     "output_type": "stream",
     "text": [
      "Threshold: 0 \n",
      "\n",
      "Loss Function Converges at 27847 \n",
      "\n",
      "Model Loss:  12783.825121902955 \n",
      "\n",
      "Model Weights: \n",
      "[[-3.18883609e-05]\n",
      " [-2.72060008e-05]\n",
      " [-2.13595326e-05]\n",
      " [ 3.59690427e-05]\n",
      " [ 3.46902676e-05]\n",
      " [ 2.68233202e-06]\n",
      " [-1.76642074e-08]\n",
      " [-6.03789174e-07]\n",
      " [ 3.05085703e-05]\n",
      " [ 2.61540680e-05]\n",
      " [ 4.38999839e-07]\n",
      " [-2.05399937e-08]\n",
      " [-1.37151984e-06]\n",
      " [-1.18619585e-06]]\n",
      "Model Bias: \n",
      "-1.4035082512111079e-10\n",
      "alpha: 0.001\n"
     ]
    },
    {
     "data": {
      "image/png": "[encoded data removed]",
      "text/plain": [
       "<Figure size 432x288 with 1 Axes>"
      ]
     },
     "metadata": {},
     "output_type": "display_data"
    },
    {
     "name": "stdout",
     "output_type": "stream",
     "text": [
      "CPU times: user 3min 57s, sys: 1.44 s, total: 3min 58s\n",
      "Wall time: 1min\n"
     ]
    }
   ],
   "source": [
    "%%time\n",
    "regressor = LinearRegressor(num_features=x1_train.shape[1])\n",
    "#print(regressor.w)\n",
    "#print(regressor.b)\n",
    "losses = []\n",
    "for iteration in range(50000):\n",
    "    loss = regressor.train(x=x1_train,y=y1_train, step_size=0.001)\n",
    "    losses.append(loss)\n",
    "    k=0;\n",
    "    if iteration > 2:\n",
    "        c = abs(losses[iteration-1] - losses[iteration])\n",
    "        if c <= k:\n",
    "            print(\"Threshold:\",k,'\\n')\n",
    "            print(\"Loss Function Converges at\", iteration,'\\n')\n",
    "            print('Model Loss: ', losses[iteration], '\\n')\n",
    "            break\n",
    "\n",
    "print('Model Weights: ');\n",
    "print(regressor.dl_dw);\n",
    "print('Model Bias: ');\n",
    "print(regressor.dl_db)\n",
    "print('alpha:',0.001);\n",
    "plot0001 = losses\n",
    "plt.plot(range(len(losses)), losses)\n",
    "plt.xlabel(\"Number of iterations\") \n",
    "plt.ylabel(\"Cost\") \n",
    "plt.show()"
   ]
  },
  {
   "cell_type": "code",
   "execution_count": 31,
   "metadata": {},
   "outputs": [
    {
     "name": "stdout",
     "output_type": "stream",
     "text": [
      "Test Data: RMSE for Alpha 0.001: 159.46933848106957 \n",
      "\n",
      "Trial Data: RMSE for Alpha 0.001: 159.89887505484802 \n",
      "\n"
     ]
    }
   ],
   "source": [
    "msetest3 = regressor.evaluate(x=x1_test, y=y1_test)\n",
    "msetrial3 = regressor.evaluate(x=x1_train, y=y1_train)\n",
    "print('Test Data: RMSE for Alpha 0.001:', msetest3,'\\n')\n",
    "print('Trial Data: RMSE for Alpha 0.001:', msetrial3,'\\n')"
   ]
  },
  {
   "cell_type": "markdown",
   "metadata": {},
   "source": [
    "#Learning Rate alpha = 1"
   ]
  },
  {
   "cell_type": "code",
   "execution_count": 32,
   "metadata": {},
   "outputs": [
    {
     "name": "stdout",
     "output_type": "stream",
     "text": [
      "Threshold: 0 \n",
      "\n",
      "Loss Function Converges at 31 \n",
      "\n",
      "Model Loss:  12783.825121896512 \n",
      "\n",
      "Model Weights: \n",
      "[[-2.34381375e-08]\n",
      " [-1.82795604e-08]\n",
      " [-1.37394365e-08]\n",
      " [ 2.37201177e-08]\n",
      " [ 2.23630322e-08]\n",
      " [ 3.54039960e-09]\n",
      " [ 2.49445010e-10]\n",
      " [-4.00321251e-10]\n",
      " [ 2.26971104e-08]\n",
      " [ 1.76481222e-08]\n",
      " [ 2.74873500e-10]\n",
      " [-1.87926330e-11]\n",
      " [-9.05469030e-10]\n",
      " [-7.94452691e-10]]\n",
      "Model Bias: \n",
      "-7.0987050989845394e-15\n",
      "alpha: 1\n"
     ]
    },
    {
     "data": {
      "image/png": "[encoded data removed]",
      "text/plain": [
       "<Figure size 432x288 with 1 Axes>"
      ]
     },
     "metadata": {},
     "output_type": "display_data"
    },
    {
     "name": "stdout",
     "output_type": "stream",
     "text": [
      "CPU times: user 1.07 s, sys: 17.9 ms, total: 1.09 s\n",
      "Wall time: 312 ms\n"
     ]
    }
   ],
   "source": [
    "%%time\n",
    "regressor = LinearRegressor(num_features=x1_train.shape[1])\n",
    "#print(regressor.w)\n",
    "#print(regressor.b)\n",
    "losses = []\n",
    "for iteration in range(10000):\n",
    "    loss = regressor.train(x=x1_train,y=y1_train, step_size=1)\n",
    "    losses.append(loss)\n",
    "    k=0;\n",
    "    if iteration > 2:\n",
    "        c = abs(losses[iteration-1] - losses[iteration])\n",
    "        if c <= k:\n",
    "            print(\"Threshold:\",k,'\\n')\n",
    "            print(\"Loss Function Converges at\", iteration,'\\n')\n",
    "            print('Model Loss: ', losses[iteration], '\\n')\n",
    "            break\n",
    "\n",
    "print('Model Weights: ');\n",
    "print(regressor.dl_dw);\n",
    "print('Model Bias: ');\n",
    "print(regressor.dl_db)\n",
    "print('alpha:',1);\n",
    "plot1 = losses\n",
    "plt.plot(range(len(losses)), losses)\n",
    "plt.xlabel(\"Number of iterations\") \n",
    "plt.ylabel(\"Cost\") \n",
    "plt.show()"
   ]
  },
  {
   "cell_type": "code",
   "execution_count": 33,
   "metadata": {},
   "outputs": [
    {
     "name": "stdout",
     "output_type": "stream",
     "text": [
      "Test Data: RMSE for Alpha 1: 159.46933925280183 \n",
      "\n",
      "Trial Data: RMSE for Alpha 1: 159.89887505480775 \n",
      "\n",
      "R-Squared: 0.48815612049901114 \n",
      "\n"
     ]
    }
   ],
   "source": [
    "msetest4 = regressor.evaluate(x=x1_test, y=y1_test)\n",
    "msetrial4 = regressor.evaluate(x=x1_train, y=y1_train)\n",
    "print('Test Data: RMSE for Alpha 1:', msetest4,'\\n')\n",
    "print('Trial Data: RMSE for Alpha 1:', msetrial4,'\\n')\n",
    "print('R-Squared:', rsquared(y1_test,regressor.forward(x1_test)), '\\n')"
   ]
  },
  {
   "cell_type": "code",
   "execution_count": 34,
   "metadata": {},
   "outputs": [
    {
     "name": "stdout",
     "output_type": "stream",
     "text": [
      "Threshold: 0 \n",
      "\n",
      "Loss Function Converges at 36 \n",
      "\n",
      "Model Loss:  12783.82512189651 \n",
      "\n",
      "Model Weights: \n",
      "[[-5.44337487e-09]\n",
      " [-4.71777046e-09]\n",
      " [ 3.67444452e-08]\n",
      " [ 5.25935618e-08]\n",
      " [ 5.60231071e-08]\n",
      " [ 7.94265924e-08]\n",
      " [ 8.14851422e-08]\n",
      " [-9.67116714e-11]\n",
      " [-6.18689478e-08]\n",
      " [-6.37980666e-08]\n",
      " [-2.42651989e-09]\n",
      " [ 4.43210936e-11]\n",
      " [ 1.23232030e-09]\n",
      " [ 2.13076171e-09]]\n",
      "Model Bias: \n",
      "-5.060799328941131e-15\n",
      "alpha: 1\n"
     ]
    },
    {
     "data": {
      "image/png": "[encoded data removed]",
      "text/plain": [
       "<Figure size 432x288 with 1 Axes>"
      ]
     },
     "metadata": {},
     "output_type": "display_data"
    },
    {
     "name": "stdout",
     "output_type": "stream",
     "text": [
      "CPU times: user 1.07 s, sys: 12 ms, total: 1.08 s\n",
      "Wall time: 295 ms\n"
     ]
    }
   ],
   "source": [
    "%%time\n",
    "regressor = LinearRegressor(num_features=x1_train.shape[1])\n",
    "#print(regressor.w)\n",
    "#print(regressor.b)\n",
    "losses = []\n",
    "for iteration in range(10000):\n",
    "    loss = regressor.train(x=x1_train,y=y1_train, step_size=1.11)\n",
    "    losses.append(loss)\n",
    "    k=0;\n",
    "    if iteration > 2:\n",
    "        c = abs(losses[iteration-1] - losses[iteration])\n",
    "        if c <= k:\n",
    "            print(\"Threshold:\",k,'\\n')\n",
    "            print(\"Loss Function Converges at\", iteration,'\\n')\n",
    "            print('Model Loss: ', losses[iteration], '\\n')\n",
    "            break\n",
    "\n",
    "print('Model Weights: ');\n",
    "print(regressor.dl_dw);\n",
    "print('Model Bias: ');\n",
    "print(regressor.dl_db)\n",
    "print('alpha:',1);\n",
    "plot111 = losses\n",
    "plt.plot(range(len(losses)), losses)\n",
    "plt.xlabel(\"Number of iterations\") \n",
    "plt.ylabel(\"Cost\") \n",
    "plt.show()"
   ]
  },
  {
   "cell_type": "code",
   "execution_count": 35,
   "metadata": {},
   "outputs": [
    {
     "name": "stdout",
     "output_type": "stream",
     "text": [
      "Threshold: 0 \n",
      "\n",
      "Loss Function Converges at 1191 \n",
      "\n",
      "Model Loss:  12783.825121896654 \n",
      "\n",
      "Model Weights: \n",
      "[[ 3.16452031e-07]\n",
      " [ 8.38390924e-07]\n",
      " [-4.37873449e-06]\n",
      " [-5.91632942e-06]\n",
      " [-7.04808035e-06]\n",
      " [-9.30359555e-06]\n",
      " [-9.90659379e-06]\n",
      " [ 1.63653225e-08]\n",
      " [ 6.86347743e-06]\n",
      " [ 8.08483770e-06]\n",
      " [ 2.93247562e-07]\n",
      " [-7.02368152e-09]\n",
      " [-1.31017553e-07]\n",
      " [-2.63488016e-07]]\n",
      "Model Bias: \n",
      "-3.605961043104586e-15\n",
      "alpha: 1.4\n"
     ]
    },
    {
     "data": {
      "image/png": "[encoded data removed]",
      "text/plain": [
       "<Figure size 432x288 with 1 Axes>"
      ]
     },
     "metadata": {},
     "output_type": "display_data"
    },
    {
     "name": "stdout",
     "output_type": "stream",
     "text": [
      "CPU times: user 9.75 s, sys: 44.9 ms, total: 9.79 s\n",
      "Wall time: 2.54 s\n"
     ]
    }
   ],
   "source": [
    "%%time\n",
    "regressor = LinearRegressor(num_features=x1_train.shape[1])\n",
    "#print(regressor.w)\n",
    "#print(regressor.b)\n",
    "losses = []\n",
    "for iteration in range(10000):\n",
    "    loss = regressor.train(x=x1_train,y=y1_train, step_size=1.4)\n",
    "    losses.append(loss)\n",
    "    k=0;\n",
    "    if iteration > 2:\n",
    "        c = abs(losses[iteration-1] - losses[iteration])\n",
    "        if c <= k:\n",
    "            print(\"Threshold:\",k,'\\n')\n",
    "            print(\"Loss Function Converges at\", iteration,'\\n')\n",
    "            print('Model Loss: ', losses[iteration], '\\n')\n",
    "            break\n",
    "\n",
    "print('Model Weights: ');\n",
    "print(regressor.dl_dw);\n",
    "print('Model Bias: ');\n",
    "print(regressor.dl_db)\n",
    "print('alpha:',1.4);\n",
    "plot14 = losses\n",
    "plt.plot(range(len(losses)), losses)\n",
    "plt.xlabel(\"Number of iterations\") \n",
    "plt.ylabel(\"Cost\") \n",
    "plt.show()"
   ]
  },
  {
   "cell_type": "code",
   "execution_count": 36,
   "metadata": {},
   "outputs": [
    {
     "name": "stdout",
     "output_type": "stream",
     "text": [
      "Iteration: 0\n",
      "40517.42908235032\n",
      "Iteration: 1000\n",
      "12785.722662494534\n",
      "Iteration: 2000\n",
      "12784.784189259683\n",
      "Iteration: 3000\n",
      "12784.468537850566\n",
      "Iteration: 4000\n",
      "12784.309842364371\n",
      "Iteration: 5000\n",
      "12784.214242717777\n",
      "Iteration: 6000\n",
      "12784.150307540613\n",
      "Iteration: 7000\n",
      "12784.10451973678\n",
      "Iteration: 8000\n",
      "12784.070101979056\n",
      "Iteration: 9000\n",
      "12784.043280298345\n",
      "Iteration: 10000\n",
      "12784.021785748359\n",
      "Iteration: 11000\n",
      "12784.004171889319\n",
      "Iteration: 12000\n",
      "12783.989472895899\n",
      "Iteration: 13000\n",
      "12783.97701915837\n",
      "Iteration: 14000\n",
      "12783.966331755808\n",
      "Iteration: 15000\n",
      "12783.957059054828\n",
      "Iteration: 16000\n",
      "12783.94893703488\n",
      "Iteration: 17000\n",
      "12783.9417635871\n",
      "Iteration: 18000\n",
      "12783.935381362026\n",
      "Iteration: 19000\n",
      "12783.929666022264\n",
      "Iteration: 20000\n",
      "12783.92451801164\n",
      "Iteration: 21000\n",
      "12783.919856670898\n",
      "Iteration: 22000\n",
      "12783.91561595469\n",
      "Iteration: 23000\n",
      "12783.911741263333\n",
      "Iteration: 24000\n",
      "12783.908187064908\n",
      "Iteration: 25000\n",
      "12783.904915086698\n",
      "Iteration: 26000\n",
      "12783.901892923124\n",
      "Iteration: 27000\n",
      "12783.899092952255\n",
      "Iteration: 28000\n",
      "12783.896491483987\n",
      "Iteration: 29000\n",
      "12783.894068084062\n",
      "Model Weights: \n",
      "[[-9.75045133e-02]\n",
      " [-8.72034255e-02]\n",
      " [-7.21581759e-02]\n",
      " [ 1.19149566e-01]\n",
      " [ 1.16189914e-01]\n",
      " [ 2.77554246e-03]\n",
      " [-2.39539005e-03]\n",
      " [-1.99626617e-03]\n",
      " [ 9.26236467e-02]\n",
      " [ 8.36581128e-02]\n",
      " [ 1.49789230e-03]\n",
      " [-3.34148815e-05]\n",
      " [-4.55493383e-03]\n",
      " [-3.90236856e-03]]\n",
      "Model Bias: \n",
      "2.220751204411192e-14\n",
      "alpha: 1/(1+iteration)\n"
     ]
    },
    {
     "data": {
      "image/png": "[encoded data removed]",
      "text/plain": [
       "<Figure size 432x288 with 1 Axes>"
      ]
     },
     "metadata": {},
     "output_type": "display_data"
    },
    {
     "name": "stdout",
     "output_type": "stream",
     "text": [
      "CPU times: user 4min 41s, sys: 2.07 s, total: 4min 43s\n",
      "Wall time: 1min 11s\n"
     ]
    }
   ],
   "source": [
    "%%time\n",
    "regressor = LinearRegressor(num_features=x1_train.shape[1])\n",
    "#print(regressor.w)\n",
    "#print(regressor.b)\n",
    "losses = []\n",
    "for iteration in range(30000):   \n",
    "    loss = regressor.train(x=x1_train,y=y1_train, step_size=1/(1+iteration))\n",
    "    losses.append(loss)\n",
    "    if iteration % 1000 == 0:\n",
    "        print(\"Iteration: {}\".format(iteration))\n",
    "        print(loss)\n",
    "    k=0.000001;\n",
    "    if iteration > 2:\n",
    "        c = abs(losses[iteration-1] - losses[iteration])\n",
    "        if c <= k:\n",
    "            print(\"Threshold:\",k,'\\n')\n",
    "            print(\"Loss Function Converges at\", iteration,'\\n')\n",
    "            print('Model Loss: ', losses[iteration], '\\n')\n",
    "            break\n",
    "\n",
    "print('Model Weights: ');\n",
    "print(regressor.dl_dw);\n",
    "print('Model Bias: ');\n",
    "print(regressor.dl_db)\n",
    "print('alpha: 1/(1+iteration)');\n",
    "plotiter = losses\n",
    "plt.plot(range(len(losses)), losses)\n",
    "plt.xlabel(\"Number of iterations\") \n",
    "plt.ylabel(\"Cost\") \n",
    "plt.show()"
   ]
  },
  {
   "cell_type": "code",
   "execution_count": 37,
   "metadata": {},
   "outputs": [
    {
     "name": "stdout",
     "output_type": "stream",
     "text": [
      "Test Data: RMSE for Alpha 0.0001: 159.46718471717443 \n",
      "\n",
      "Trial Data: RMSE for Alpha 0.0001: 159.89929208744462 \n",
      "\n"
     ]
    }
   ],
   "source": [
    "msetest5 = regressor.evaluate(x=x1_test, y=y1_test)\n",
    "msetrial5 = regressor.evaluate(x=x1_train, y=y1_train)\n",
    "print('Test Data: RMSE for Alpha 0.0001:', msetest5,'\\n')\n",
    "print('Trial Data: RMSE for Alpha 0.0001:', msetrial5,'\\n')"
   ]
  },
  {
   "cell_type": "markdown",
   "metadata": {},
   "source": [
    "#Implementing Linear Regression using Gradient Descent Algorithm for Different Threshold Value at alpha 1"
   ]
  },
  {
   "cell_type": "markdown",
   "metadata": {},
   "source": [
    "#Changing threshold value to 0.0000000001"
   ]
  },
  {
   "cell_type": "code",
   "execution_count": 38,
   "metadata": {},
   "outputs": [
    {
     "name": "stdout",
     "output_type": "stream",
     "text": [
      "Threshold: 1e-10 \n",
      "\n",
      "Loss Function Converges at 25 \n",
      "\n",
      "Model Loss:  12783.825121896522 \n",
      "\n",
      "Model Weights: \n",
      "[[-1.33168104e-06]\n",
      " [-1.07095244e-06]\n",
      " [-8.15312924e-07]\n",
      " [ 1.38302258e-06]\n",
      " [ 1.31351171e-06]\n",
      " [ 1.67203865e-07]\n",
      " [ 4.39838272e-09]\n",
      " [-2.34015841e-08]\n",
      " [ 1.29385911e-06]\n",
      " [ 1.04145614e-06]\n",
      " [ 1.66867895e-08]\n",
      " [-1.08372826e-09]\n",
      " [-5.32096778e-08]\n",
      " [-4.66247490e-08]]\n",
      "Model Bias: \n",
      "-3.509726603963648e-15\n",
      "alpha: 1\n"
     ]
    },
    {
     "data": {
      "image/png": "[encoded data removed]",
      "text/plain": [
       "<Figure size 432x288 with 1 Axes>"
      ]
     },
     "metadata": {},
     "output_type": "display_data"
    },
    {
     "name": "stdout",
     "output_type": "stream",
     "text": [
      "CPU times: user 1.07 s, sys: 16.4 ms, total: 1.09 s\n",
      "Wall time: 302 ms\n"
     ]
    }
   ],
   "source": [
    "%%time\n",
    "regressor = LinearRegressor(num_features=x1_train.shape[1])\n",
    "#print(regressor.w)\n",
    "#print(regressor.b)\n",
    "losses = []\n",
    "for iteration in range(10000):\n",
    "    loss = regressor.train(x=x1_train,y=y1_train, step_size=1)\n",
    "    losses.append(loss)\n",
    "    k=0.0000000001;\n",
    "    if iteration > 2:\n",
    "        c = abs(losses[iteration-1] - losses[iteration])\n",
    "        if c <= k:\n",
    "            print(\"Threshold:\",k,'\\n')\n",
    "            print(\"Loss Function Converges at\", iteration,'\\n')\n",
    "            print('Model Loss: ', losses[iteration], '\\n')\n",
    "            break\n",
    "\n",
    "print('Model Weights: ');\n",
    "print(regressor.dl_dw);\n",
    "print('Model Bias: ');\n",
    "print(regressor.dl_db)\n",
    "print('alpha:',1);\n",
    "plt.plot(range(len(losses)), losses)\n",
    "plt.xlabel(\"Number of iterations\") \n",
    "plt.ylabel(\"Cost\") \n",
    "plt.show()"
   ]
  },
  {
   "cell_type": "code",
   "execution_count": 39,
   "metadata": {},
   "outputs": [
    {
     "name": "stdout",
     "output_type": "stream",
     "text": [
      "Test Data: RMSE for Alpha 1 and Threshold 0.0000000001: 159.46933923806375 \n",
      "\n",
      "Trial Data: RMSE for Alpha 1 and Threshold 0.0000000001: 159.89887505480777 \n",
      "\n"
     ]
    }
   ],
   "source": [
    "msetest6 = regressor.evaluate(x=x1_test, y=y1_test)\n",
    "msetrial6 = regressor.evaluate(x=x1_train, y=y1_train)\n",
    "print('Test Data: RMSE for Alpha 1 and Threshold 0.0000000001:', msetest6,'\\n')\n",
    "print('Trial Data: RMSE for Alpha 1 and Threshold 0.0000000001:', msetrial6,'\\n')"
   ]
  },
  {
   "cell_type": "code",
   "execution_count": 40,
   "metadata": {},
   "outputs": [
    {
     "data": {
      "image/png": "[encoded data removed]",
      "text/plain": [
       "<Figure size 432x288 with 1 Axes>"
      ]
     },
     "metadata": {},
     "output_type": "display_data"
    }
   ],
   "source": [
    "plt.plot(range(len(plot1)), plot1, label = 'alpha = 1')\n",
    "plt.plot(range(len(plot14)), plot14, label = 'alpha = 1.4')\n",
    "#plt.plot(range(len(plot111)), plot111, label = 'alpha = 1.11')\n",
    "plt.plot(range(len(plot01)), plot01, label = 'alpha = 0.1')\n",
    "plt.plot(range(len(plot001)), plot001, label = 'alpha = 0.01')\n",
    "plt.legend()\n",
    "plt.xlabel(\"Number of iterations\") \n",
    "plt.ylabel(\"Cost\") \n",
    "plt.show()"
   ]
  },
  {
   "cell_type": "markdown",
   "metadata": {},
   "source": [
    "# LOGISTIC REGRESSION"
   ]
  },
  {
   "cell_type": "code",
   "execution_count": 41,
   "metadata": {},
   "outputs": [
    {
     "data": {
      "text/plain": [
       "array([69.79])"
      ]
     },
     "execution_count": 41,
     "metadata": {},
     "output_type": "execute_result"
    }
   ],
   "source": [
    "np.median(y,axis=0)"
   ]
  },
  {
   "cell_type": "code",
   "execution_count": 42,
   "metadata": {},
   "outputs": [
    {
     "data": {
      "text/plain": [
       "216.62312500000002"
      ]
     },
     "execution_count": 42,
     "metadata": {},
     "output_type": "execute_result"
    }
   ],
   "source": [
    "np.percentile(y,75)"
   ]
  },
  {
   "cell_type": "code",
   "execution_count": 43,
   "metadata": {},
   "outputs": [
    {
     "data": {
      "text/plain": [
       "MWG            64.000\n",
       "NWG            64.000\n",
       "KWG            32.000\n",
       "MDIMC           8.000\n",
       "NDIMC           8.000\n",
       "MDIMA          16.000\n",
       "NDIMB          16.000\n",
       "KWI             2.000\n",
       "VWM             2.000\n",
       "VWN             2.000\n",
       "STRM            0.000\n",
       "STRN            0.000\n",
       "SA              0.000\n",
       "SB              0.000\n",
       "Run1 (ms)      69.825\n",
       "Run2 (ms)      69.930\n",
       "Run3 (ms)      69.790\n",
       "Run4 (ms)      69.820\n",
       "avg_runtime    69.790\n",
       "dtype: float64"
      ]
     },
     "execution_count": 43,
     "metadata": {},
     "output_type": "execute_result"
    }
   ],
   "source": [
    "sgemm2.median()"
   ]
  },
  {
   "cell_type": "code",
   "execution_count": 44,
   "metadata": {},
   "outputs": [],
   "source": [
    "ylogist = np.where(y > np.percentile(y,50), 1, 0)"
   ]
  },
  {
   "cell_type": "code",
   "execution_count": 45,
   "metadata": {},
   "outputs": [
    {
     "data": {
      "text/plain": [
       "DescribeResult(nobs=229520, minmax=(array([0]), array([1])), mean=array([0.49999564]), variance=array([0.25000109]), skewness=array([1.74276751e-05]), kurtosis=array([-2.]))"
      ]
     },
     "execution_count": 45,
     "metadata": {},
     "output_type": "execute_result"
    }
   ],
   "source": [
    "stat.describe(ylogist)"
   ]
  },
  {
   "cell_type": "code",
   "execution_count": 46,
   "metadata": {},
   "outputs": [],
   "source": [
    "x1_train, x1_test, y1_train, y1_test = train_test_split(x, ylogist, test_size = 0.3, random_state = 0)"
   ]
  },
  {
   "cell_type": "code",
   "execution_count": 47,
   "metadata": {},
   "outputs": [],
   "source": [
    "scaler = StandardScaler()\n",
    "x1_train=scaler.fit_transform(x1_train)\n",
    "x1_test=scaler.transform(x1_test)"
   ]
  },
  {
   "cell_type": "code",
   "execution_count": 48,
   "metadata": {},
   "outputs": [
    {
     "data": {
      "text/plain": [
       "array([[0],\n",
       "       [0],\n",
       "       [1],\n",
       "       ...,\n",
       "       [1],\n",
       "       [0],\n",
       "       [1]])"
      ]
     },
     "execution_count": 48,
     "metadata": {},
     "output_type": "execute_result"
    }
   ],
   "source": [
    "y1_test"
   ]
  },
  {
   "cell_type": "markdown",
   "metadata": {},
   "source": [
    "#Implementing Logistic Regression using Gradient Descent Algorithm for Different Learning Rate at a Threshold Value of 0"
   ]
  },
  {
   "cell_type": "code",
   "execution_count": 49,
   "metadata": {},
   "outputs": [],
   "source": [
    "class LogisticRegressor(object):\n",
    "    def __init__(self, num_features):\n",
    "        self.num_features = num_features\n",
    "        self.w = np.zeros((num_features,1), dtype=np.float64)\n",
    "\n",
    "\n",
    "    def forward(self, x):\n",
    "        z = np.dot(x, self.w)\n",
    "        return 1/(1+np.e**(-z))\n",
    "        \n",
    "\n",
    "#     @staticmethod\n",
    "#     def loss(y_pred, y_true):\n",
    "#         l = (np.sum(np.power(y_pred - y_true, 2))) / (2*len(y_true))\n",
    "#         return l\n",
    "\n",
    "    @staticmethod\n",
    "    def loss(y_true,y_pred):\n",
    "        l = -np.mean(y_true * np.log(y_pred) + (1-y_true) * np.log(1-y_pred))\n",
    "        return l\n",
    "\n",
    "    def calculate_gradients(self,x,y_pred,y_true):\n",
    "#        z = np.matmul(x,self.w) + self.b\n",
    "        self.dl_dw = np.dot(x.T,y_pred - y_true) / len(x)\n",
    "\n",
    "\n",
    "    def optimize(self, step_size):\n",
    "        self.w -= step_size*self.dl_dw\n",
    "\n",
    "    def train(self, x, y, step_size=1.0):\n",
    "        y_pred = self.forward(x)\n",
    "        l = self.loss(y_pred=y_pred, y_true=y)\n",
    "        self.calculate_gradients(x=x, y_pred=y_pred, y_true=y)\n",
    "        self.optimize(step_size=step_size)\n",
    "        return l\n",
    "\n",
    "#     def evaluate(self, x, y):\n",
    "#         return self.loss(self.forward(x), y)"
   ]
  },
  {
   "cell_type": "code",
   "execution_count": 50,
   "metadata": {},
   "outputs": [
    {
     "name": "stdout",
     "output_type": "stream",
     "text": [
      "Iteration: 0\n",
      "0.6931471805599454\n",
      "Iteration: 1000\n",
      "0.4903555616863843\n",
      "Iteration: 2000\n",
      "0.49035447400264454\n",
      "Threshold: 0 \n",
      "\n",
      "Loss Function Converges at 2747 \n",
      "\n",
      "Model Loss:  0.4903544739630828 \n",
      "\n",
      "Model Weights: \n",
      "[[-2.42418390e-08]\n",
      " [-1.74282379e-08]\n",
      " [-6.80758998e-09]\n",
      " [ 2.08646209e-08]\n",
      " [ 1.81835290e-08]\n",
      " [ 2.20874157e-09]\n",
      " [ 1.23595169e-09]\n",
      " [ 9.23773467e-11]\n",
      " [ 1.06923644e-08]\n",
      " [ 8.77064017e-09]\n",
      " [ 4.66325261e-09]\n",
      " [ 4.00834744e-10]\n",
      " [ 5.65356003e-09]\n",
      " [ 1.04827847e-09]]\n",
      "alpha: 0.1\n"
     ]
    },
    {
     "data": {
      "image/png": "[encoded data removed]",
      "text/plain": [
       "<Figure size 432x288 with 1 Axes>"
      ]
     },
     "metadata": {},
     "output_type": "display_data"
    },
    {
     "name": "stdout",
     "output_type": "stream",
     "text": [
      "CPU times: user 1min 18s, sys: 1.08 s, total: 1min 19s\n",
      "Wall time: 20.3 s\n"
     ]
    }
   ],
   "source": [
    "%%time\n",
    "regressor = LogisticRegressor(num_features=x1_train.shape[1])\n",
    "#print(regressor.w)\n",
    "#print(regressor.b)\n",
    "losses = []\n",
    "for iteration in range(20000):\n",
    "    loss = regressor.train(x=x1_train,y=y1_train, step_size=0.1)\n",
    "    losses.append(loss)\n",
    "    if iteration % 1000 == 0:\n",
    "        print(\"Iteration: {}\".format(iteration))\n",
    "        print(loss)\n",
    "    k=0;\n",
    "    if iteration > 2:\n",
    "        c = abs(losses[iteration-1] - losses[iteration])\n",
    "        if c <= k:\n",
    "            print(\"Threshold:\",k,'\\n')\n",
    "            print(\"Loss Function Converges at\", iteration,'\\n')\n",
    "            print('Model Loss: ', losses[iteration], '\\n')\n",
    "            break\n",
    "\n",
    "print('Model Weights: ');\n",
    "print(regressor.dl_dw);\n",
    "print('alpha:',0.1);\n",
    "plotlog01 = losses\n",
    "plt.plot(range(len(losses)), losses)\n",
    "plt.xlabel(\"Number of iterations\") \n",
    "plt.ylabel(\"Cost\") \n",
    "plt.show()"
   ]
  },
  {
   "cell_type": "code",
   "execution_count": 51,
   "metadata": {},
   "outputs": [
    {
     "name": "stdout",
     "output_type": "stream",
     "text": [
      "Trial Data: Accuracy for Alpha 0.1: 0.7998058059054922 \n",
      "\n",
      "Test Data: Accuracy for Alpha 0.1: 0.800075519925642 \n",
      "\n"
     ]
    }
   ],
   "source": [
    "z = np.dot(x1_train, regressor.w)\n",
    "ypredtrain = 1/(1+np.exp(-z))\n",
    "ypredtrain = np.where(ypredtrain > 0.5, 1, 0)\n",
    "acctrain1 = accuracy_score(ypredtrain,y1_train) \n",
    "print('Trial Data: Accuracy for Alpha 0.1:', acctrain1,'\\n')\n",
    "\n",
    "z = np.dot(x1_test, regressor.w)\n",
    "ypredtest = 1/(1+np.exp(-z))\n",
    "ypredtest = np.where(ypredtest > 0.5, 1, 0)\n",
    "acctest1 = accuracy_score(ypredtest,y1_test) \n",
    "print('Test Data: Accuracy for Alpha 0.1:', acctest1,'\\n')"
   ]
  },
  {
   "cell_type": "code",
   "execution_count": 52,
   "metadata": {},
   "outputs": [
    {
     "name": "stdout",
     "output_type": "stream",
     "text": [
      "Confusion Matrix:\n",
      "[[27451  6925]\n",
      " [ 6841 27639]]\n",
      "Classification Report\n",
      "              precision    recall  f1-score   support\n",
      "\n",
      "           0       0.80      0.80      0.80     34376\n",
      "           1       0.80      0.80      0.80     34480\n",
      "\n",
      "    accuracy                           0.80     68856\n",
      "   macro avg       0.80      0.80      0.80     68856\n",
      "weighted avg       0.80      0.80      0.80     68856\n",
      "\n"
     ]
    }
   ],
   "source": [
    "from sklearn.metrics import classification_report, confusion_matrix\n",
    "\n",
    "print(\"Confusion Matrix:\")\n",
    "print(confusion_matrix(y1_test, ypredtest))\n",
    "print(\"Classification Report\")\n",
    "print(classification_report(y1_test, ypredtest))"
   ]
  },
  {
   "cell_type": "code",
   "execution_count": 53,
   "metadata": {},
   "outputs": [
    {
     "name": "stdout",
     "output_type": "stream",
     "text": [
      "Iteration: 0\n",
      "0.6931471805599454\n",
      "Iteration: 1000\n",
      "0.5116595161321311\n",
      "Iteration: 2000\n",
      "0.4959440463667385\n",
      "Iteration: 3000\n",
      "0.49207776256745855\n",
      "Iteration: 4000\n",
      "0.49092438769259805\n",
      "Iteration: 5000\n",
      "0.49055007398507705\n",
      "Iteration: 6000\n",
      "0.49042301669683913\n",
      "Iteration: 7000\n",
      "0.4903787828362712\n",
      "Iteration: 8000\n",
      "0.49036315603877645\n",
      "Iteration: 9000\n",
      "0.4903575877664928\n",
      "Iteration: 10000\n",
      "0.49035559349372776\n",
      "Iteration: 11000\n",
      "0.4903548770739158\n",
      "Iteration: 12000\n",
      "0.49035461924059504\n",
      "Iteration: 13000\n",
      "0.4903545263476516\n",
      "Iteration: 14000\n",
      "0.4903544928580809\n",
      "Iteration: 15000\n",
      "0.49035448077976557\n",
      "Iteration: 16000\n",
      "0.49035447642258895\n",
      "Iteration: 17000\n",
      "0.4903544748505431\n",
      "Iteration: 18000\n",
      "0.49035447428330914\n",
      "Iteration: 19000\n",
      "0.4903544740786266\n",
      "Iteration: 20000\n",
      "0.4903544740047661\n",
      "Iteration: 21000\n",
      "0.49035447397811266\n",
      "Iteration: 22000\n",
      "0.4903544739684943\n",
      "Iteration: 23000\n",
      "0.49035447396502335\n",
      "Iteration: 24000\n",
      "0.4903544739637708\n",
      "Threshold: 0 \n",
      "\n",
      "Loss Function Converges at 24986 \n",
      "\n",
      "Model Loss:  0.4903544739633226 \n",
      "\n",
      "Model Weights: \n",
      "[[-8.90173633e-08]\n",
      " [-6.39980986e-08]\n",
      " [-2.49979216e-08]\n",
      " [ 7.66161555e-08]\n",
      " [ 6.67712264e-08]\n",
      " [ 8.11040328e-09]\n",
      " [ 4.53885216e-09]\n",
      " [ 3.39215021e-10]\n",
      " [ 3.92627573e-08]\n",
      " [ 3.22068916e-08]\n",
      " [ 1.71237625e-08]\n",
      " [ 1.47188437e-09]\n",
      " [ 2.07602288e-08]\n",
      " [ 3.84934432e-09]]\n",
      "alpha: 0.01\n"
     ]
    },
    {
     "data": {
      "image/png": "[encoded data removed]",
      "text/plain": [
       "<Figure size 432x288 with 1 Axes>"
      ]
     },
     "metadata": {},
     "output_type": "display_data"
    },
    {
     "name": "stdout",
     "output_type": "stream",
     "text": [
      "CPU times: user 12min 25s, sys: 12 s, total: 12min 37s\n",
      "Wall time: 3min 11s\n"
     ]
    }
   ],
   "source": [
    "%%time\n",
    "regressor = LogisticRegressor(num_features=x1_train.shape[1])\n",
    "#print(regressor.w)\n",
    "#print(regressor.b)\n",
    "losses = []\n",
    "for iteration in range(50000):\n",
    "    loss = regressor.train(x=x1_train,y=y1_train, step_size=0.01)\n",
    "    losses.append(loss)\n",
    "    if iteration % 1000 == 0:\n",
    "        print(\"Iteration: {}\".format(iteration))\n",
    "        print(loss)\n",
    "    k=0;\n",
    "    if iteration > 2:\n",
    "        c = abs(losses[iteration-1] - losses[iteration])\n",
    "        if c <= k:\n",
    "            print(\"Threshold:\",k,'\\n')\n",
    "            print(\"Loss Function Converges at\", iteration,'\\n')\n",
    "            print('Model Loss: ', losses[iteration], '\\n')\n",
    "            break\n",
    "\n",
    "print('Model Weights: ');\n",
    "print(regressor.dl_dw);\n",
    "print('alpha:',0.01);\n",
    "plotlog001 = losses\n",
    "plt.plot(range(len(losses)), losses)\n",
    "plt.xlabel(\"Number of iterations\") \n",
    "plt.ylabel(\"Cost\") \n",
    "plt.show()"
   ]
  },
  {
   "cell_type": "code",
   "execution_count": 54,
   "metadata": {},
   "outputs": [
    {
     "name": "stdout",
     "output_type": "stream",
     "text": [
      "Trial Data: Accuracy for Alpha 0.01: 0.7998058059054922 \n",
      "\n",
      "Test Data: Accuracy for Alpha 0.01: 0.800075519925642 \n",
      "\n"
     ]
    }
   ],
   "source": [
    "z = np.dot(x1_train, regressor.w)\n",
    "ypredtrain = 1/(1+np.exp(-z))\n",
    "ypredtrain = np.where(ypredtrain > 0.5, 1, 0)\n",
    "acctrain2 = accuracy_score(ypredtrain,y1_train)\n",
    "print('Trial Data: Accuracy for Alpha 0.01:', acctrain2,'\\n')\n",
    "\n",
    "z = np.dot(x1_test, regressor.w)\n",
    "ypredtest = 1/(1+np.exp(-z))\n",
    "ypredtest = np.where(ypredtest > 0.5, 1, 0)\n",
    "acctest2 = accuracy_score(ypredtest,y1_test)\n",
    "print('Test Data: Accuracy for Alpha 0.01:', acctest2,'\\n')"
   ]
  },
  {
   "cell_type": "code",
   "execution_count": 55,
   "metadata": {},
   "outputs": [
    {
     "name": "stdout",
     "output_type": "stream",
     "text": [
      "Iteration: 0\n",
      "0.6931471805599454\n",
      "Iteration: 10000\n",
      "0.5116775238081085\n",
      "Iteration: 20000\n",
      "0.49594994153351285\n",
      "Iteration: 30000\n",
      "0.4920799811421218\n",
      "Iteration: 40000\n",
      "0.4909252495883496\n",
      "Iteration: 50000\n",
      "0.4905504133854619\n",
      "Threshold: 1e-08 \n",
      "\n",
      "Loss Function Converges at 56825 \n",
      "\n",
      "Model Loss:  0.4904501204874293 \n",
      "\n",
      "Model Weights: \n",
      "[[-1.71869504e-03]\n",
      " [-1.24667497e-03]\n",
      " [-4.97275707e-04]\n",
      " [ 1.49156590e-03]\n",
      " [ 1.30472945e-03]\n",
      " [ 1.53237821e-04]\n",
      " [ 8.80162202e-05]\n",
      " [ 5.52991284e-06]\n",
      " [ 7.77986207e-04]\n",
      " [ 6.43843623e-04]\n",
      " [ 3.25102140e-04]\n",
      " [ 2.78855633e-05]\n",
      " [ 3.91464453e-04]\n",
      " [ 7.15748579e-05]]\n",
      "alpha: 0.001\n"
     ]
    },
    {
     "data": {
      "image/png": "[encoded data removed]",
      "text/plain": [
       "<Figure size 432x288 with 1 Axes>"
      ]
     },
     "metadata": {},
     "output_type": "display_data"
    },
    {
     "name": "stdout",
     "output_type": "stream",
     "text": [
      "CPU times: user 25min 47s, sys: 11.3 s, total: 25min 59s\n",
      "Wall time: 6min 31s\n"
     ]
    }
   ],
   "source": [
    "%%time\n",
    "regressor = LogisticRegressor(num_features=x1_train.shape[1])\n",
    "#print(regressor.w)\n",
    "#print(regressor.b)\n",
    "losses = []\n",
    "for iteration in range(100000):\n",
    "    loss = regressor.train(x=x1_train,y=y1_train, step_size=0.001)\n",
    "    losses.append(loss)\n",
    "    if iteration % 10000 == 0:\n",
    "        print(\"Iteration: {}\".format(iteration))\n",
    "        print(loss)\n",
    "    k=0.00000001;\n",
    "    if iteration > 2:\n",
    "        c = abs(losses[iteration-1] - losses[iteration])\n",
    "        if c <= k:\n",
    "            print(\"Threshold:\",k,'\\n')\n",
    "            print(\"Loss Function Converges at\", iteration,'\\n')\n",
    "            print('Model Loss: ', losses[iteration], '\\n')\n",
    "            break\n",
    "\n",
    "print('Model Weights: ');\n",
    "print(regressor.dl_dw);\n",
    "print('alpha:',0.001);\n",
    "plotlog0001 = losses\n",
    "plt.plot(range(len(losses)), losses)\n",
    "plt.xlabel(\"Number of iterations\") \n",
    "plt.ylabel(\"Cost\") \n",
    "plt.show()"
   ]
  },
  {
   "cell_type": "code",
   "execution_count": 56,
   "metadata": {},
   "outputs": [
    {
     "name": "stdout",
     "output_type": "stream",
     "text": [
      "Trial Data: Accuracy for Alpha 0.001: 0.7995008215903998 \n",
      "\n",
      "Test Data: Accuracy for Alpha 0.001: 0.7998286278610434 \n",
      "\n"
     ]
    }
   ],
   "source": [
    "z = np.dot(x1_train, regressor.w)\n",
    "ypredtrain = 1/(1+np.exp(-z))\n",
    "ypredtrain = np.where(ypredtrain > 0.5, 1, 0)\n",
    "acctrain3 = accuracy_score(ypredtrain,y1_train)\n",
    "print('Trial Data: Accuracy for Alpha 0.001:', acctrain3,'\\n')\n",
    "\n",
    "z = np.dot(x1_test, regressor.w)\n",
    "ypredtest = 1/(1+np.exp(-z))\n",
    "ypredtest = np.where(ypredtest > 0.5, 1, 0)\n",
    "acctest3 = accuracy_score(ypredtest,y1_test)\n",
    "print('Test Data: Accuracy for Alpha 0.001:', acctest3,'\\n')"
   ]
  },
  {
   "cell_type": "code",
   "execution_count": 57,
   "metadata": {},
   "outputs": [
    {
     "name": "stdout",
     "output_type": "stream",
     "text": [
      "Iteration: 0\n",
      "0.6931471805599454\n",
      "Threshold: 0 \n",
      "\n",
      "Loss Function Converges at 299 \n",
      "\n",
      "Model Loss:  0.4903544739630643 \n",
      "\n",
      "Model Weights: \n",
      "[[-4.73840540e-09]\n",
      " [-3.40657140e-09]\n",
      " [-1.33063617e-09]\n",
      " [ 4.07827725e-09]\n",
      " [ 3.55421453e-09]\n",
      " [ 4.31736482e-10]\n",
      " [ 2.41572252e-10]\n",
      " [ 1.80563986e-11]\n",
      " [ 2.08997866e-09]\n",
      " [ 1.71432470e-09]\n",
      " [ 9.11496092e-10]\n",
      " [ 7.83487895e-11]\n",
      " [ 1.10506525e-09]\n",
      " [ 2.04900266e-10]]\n",
      "alpha: 1\n"
     ]
    },
    {
     "data": {
      "image/png": "[encoded data removed]",
      "text/plain": [
       "<Figure size 432x288 with 1 Axes>"
      ]
     },
     "metadata": {},
     "output_type": "display_data"
    },
    {
     "name": "stdout",
     "output_type": "stream",
     "text": [
      "CPU times: user 9.92 s, sys: 182 ms, total: 10.1 s\n",
      "Wall time: 2.55 s\n"
     ]
    }
   ],
   "source": [
    "%%time\n",
    "regressor = LogisticRegressor(num_features=x1_train.shape[1])\n",
    "#print(regressor.w)\n",
    "#print(regressor.b)\n",
    "losses = []\n",
    "for iteration in range(10000):\n",
    "    loss = regressor.train(x=x1_train,y=y1_train, step_size=1)\n",
    "    losses.append(loss)\n",
    "    if iteration % 1000 == 0:\n",
    "        print(\"Iteration: {}\".format(iteration))\n",
    "        print(loss)\n",
    "    k=0;\n",
    "    if iteration > 2:\n",
    "        c = abs(losses[iteration-1] - losses[iteration])\n",
    "        if c <= k:\n",
    "            print(\"Threshold:\",k,'\\n')\n",
    "            print(\"Loss Function Converges at\", iteration,'\\n')\n",
    "            print('Model Loss: ', losses[iteration], '\\n')\n",
    "            break\n",
    "\n",
    "print('Model Weights: ');\n",
    "print(regressor.dl_dw);\n",
    "print('alpha:',1);\n",
    "plotlog1 = losses\n",
    "plt.plot(range(len(losses)), losses)\n",
    "plt.xlabel(\"Number of iterations\") \n",
    "plt.ylabel(\"Cost\") \n",
    "plt.show()"
   ]
  },
  {
   "cell_type": "code",
   "execution_count": 58,
   "metadata": {},
   "outputs": [
    {
     "name": "stdout",
     "output_type": "stream",
     "text": [
      "Trial Data: Accuracy for Alpha 0.001: 0.7998058059054922 \n",
      "\n",
      "Test Data: Accuracy for Alpha 0.001: 0.800075519925642 \n",
      "\n"
     ]
    }
   ],
   "source": [
    "z = np.dot(x1_train, regressor.w)\n",
    "ypredtrain = 1/(1+np.exp(-z))\n",
    "ypredtrain = np.where(ypredtrain > 0.5, 1, 0)\n",
    "acctrain4 = accuracy_score(ypredtrain,y1_train)\n",
    "print('Trial Data: Accuracy for Alpha 0.001:', acctrain4,'\\n')\n",
    "\n",
    "z = np.dot(x1_test, regressor.w)\n",
    "ypredtest = 1/(1+np.exp(-z))\n",
    "ypredtest = np.where(ypredtest > 0.5, 1, 0)\n",
    "acctest4 = accuracy_score(ypredtest,y1_test)\n",
    "print('Test Data: Accuracy for Alpha 0.001:', acctest4,'\\n')"
   ]
  },
  {
   "cell_type": "code",
   "execution_count": 59,
   "metadata": {},
   "outputs": [
    {
     "name": "stdout",
     "output_type": "stream",
     "text": [
      "Iteration: 0\n",
      "0.6931471805599454\n",
      "Threshold: 0 \n",
      "\n",
      "Loss Function Converges at 66 \n",
      "\n",
      "Model Loss:  0.4903544739630635 \n",
      "\n",
      "Model Weights: \n",
      "[[-8.73210627e-11]\n",
      " [-6.27773986e-11]\n",
      " [-2.45214290e-11]\n",
      " [ 7.51559637e-11]\n",
      " [ 6.54983037e-11]\n",
      " [ 7.95623356e-12]\n",
      " [ 4.45169548e-12]\n",
      " [ 3.32770553e-13]\n",
      " [ 3.85149360e-11]\n",
      " [ 3.15920768e-11]\n",
      " [ 1.67973786e-11]\n",
      " [ 1.44384660e-12]\n",
      " [ 2.03645313e-11]\n",
      " [ 3.77597741e-12]]\n",
      "alpha: 5\n"
     ]
    },
    {
     "data": {
      "image/png": "[encoded data removed]",
      "text/plain": [
       "<Figure size 432x288 with 1 Axes>"
      ]
     },
     "metadata": {},
     "output_type": "display_data"
    },
    {
     "name": "stdout",
     "output_type": "stream",
     "text": [
      "CPU times: user 2.72 s, sys: 46.2 ms, total: 2.77 s\n",
      "Wall time: 710 ms\n"
     ]
    }
   ],
   "source": [
    "%%time\n",
    "regressor = LogisticRegressor(num_features=x1_train.shape[1])\n",
    "#print(regressor.w)\n",
    "#print(regressor.b)\n",
    "losses = []\n",
    "for iteration in range(10000):\n",
    "    loss = regressor.train(x=x1_train,y=y1_train, step_size=5)\n",
    "    losses.append(loss)\n",
    "    if iteration % 1000 == 0:\n",
    "        print(\"Iteration: {}\".format(iteration))\n",
    "        print(loss)\n",
    "    k=0;\n",
    "    if iteration > 2:\n",
    "        c = abs(losses[iteration-1] - losses[iteration])\n",
    "        if c <= k:\n",
    "            print(\"Threshold:\",k,'\\n')\n",
    "            print(\"Loss Function Converges at\", iteration,'\\n')\n",
    "            print('Model Loss: ', losses[iteration], '\\n')\n",
    "            break\n",
    "\n",
    "print('Model Weights: ');\n",
    "print(regressor.dl_dw);\n",
    "print('alpha:',5);\n",
    "plotlog5 = losses\n",
    "plt.plot(range(len(losses)), losses)\n",
    "plt.xlabel(\"Number of iterations\") \n",
    "plt.ylabel(\"Cost\") \n",
    "plt.show()"
   ]
  },
  {
   "cell_type": "code",
   "execution_count": 60,
   "metadata": {},
   "outputs": [
    {
     "name": "stdout",
     "output_type": "stream",
     "text": [
      "Iteration: 0\n",
      "0.6931471805599454\n",
      "Threshold: 0 \n",
      "\n",
      "Loss Function Converges at 43 \n",
      "\n",
      "Model Loss:  0.4903544739630636 \n",
      "\n",
      "Model Weights: \n",
      "[[-3.44232009e-10]\n",
      " [-5.64383671e-10]\n",
      " [-1.23219383e-10]\n",
      " [ 5.13549900e-10]\n",
      " [ 4.71381062e-10]\n",
      " [ 1.01524887e-10]\n",
      " [ 7.55942031e-11]\n",
      " [ 1.40232241e-12]\n",
      " [ 3.79107797e-10]\n",
      " [ 1.81985776e-11]\n",
      " [ 1.20237057e-10]\n",
      " [ 1.03019893e-11]\n",
      " [ 1.53017830e-10]\n",
      " [ 2.35608435e-11]]\n",
      "alpha: 6.5\n"
     ]
    },
    {
     "data": {
      "image/png": "[encoded data removed]",
      "text/plain": [
       "<Figure size 432x288 with 1 Axes>"
      ]
     },
     "metadata": {},
     "output_type": "display_data"
    },
    {
     "name": "stdout",
     "output_type": "stream",
     "text": [
      "CPU times: user 1.99 s, sys: 24.4 ms, total: 2.01 s\n",
      "Wall time: 510 ms\n"
     ]
    }
   ],
   "source": [
    "%%time\n",
    "regressor = LogisticRegressor(num_features=x1_train.shape[1])\n",
    "#print(regressor.w)\n",
    "#print(regressor.b)\n",
    "losses = []\n",
    "for iteration in range(10000):\n",
    "    loss = regressor.train(x=x1_train,y=y1_train, step_size=6.5)\n",
    "    losses.append(loss)\n",
    "    if iteration % 1000 == 0:\n",
    "        print(\"Iteration: {}\".format(iteration))\n",
    "        print(loss)\n",
    "    k=0;\n",
    "    if iteration > 2:\n",
    "        c = abs(losses[iteration-1] - losses[iteration])\n",
    "        if c <= k:\n",
    "            print(\"Threshold:\",k,'\\n')\n",
    "            print(\"Loss Function Converges at\", iteration,'\\n')\n",
    "            print('Model Loss: ', losses[iteration], '\\n')\n",
    "            break\n",
    "\n",
    "print('Model Weights: ');\n",
    "print(regressor.dl_dw);\n",
    "print('alpha:',6.5);\n",
    "plotlog65 = losses\n",
    "plt.plot(range(len(losses)), losses)\n",
    "plt.xlabel(\"Number of iterations\") \n",
    "plt.ylabel(\"Cost\") \n",
    "plt.show()"
   ]
  },
  {
   "cell_type": "code",
   "execution_count": 61,
   "metadata": {},
   "outputs": [
    {
     "name": "stdout",
     "output_type": "stream",
     "text": [
      "Trial Data: Accuracy for Alpha 6.5: 0.7998058059054922 \n",
      "\n",
      "Test Data: Accuracy for Alpha 6.5: 0.800075519925642 \n",
      "\n"
     ]
    }
   ],
   "source": [
    "z = np.dot(x1_train, regressor.w)\n",
    "ypredtrain = 1/(1+np.exp(-z))\n",
    "ypredtrain = np.where(ypredtrain > 0.5, 1, 0)\n",
    "acctrain5 = accuracy_score(ypredtrain,y1_train)\n",
    "print('Trial Data: Accuracy for Alpha 6.5:', acctrain5,'\\n')\n",
    "\n",
    "z = np.dot(x1_test, regressor.w)\n",
    "ypredtest = 1/(1+np.exp(-z))\n",
    "ypredtest = np.where(ypredtest > 0.5, 1, 0)\n",
    "acctest5 = accuracy_score(ypredtest,y1_test)\n",
    "print('Test Data: Accuracy for Alpha 6.5:', acctest5,'\\n')"
   ]
  },
  {
   "cell_type": "code",
   "execution_count": 62,
   "metadata": {},
   "outputs": [
    {
     "name": "stdout",
     "output_type": "stream",
     "text": [
      "Confusion Matrix:\n",
      "[[27451  6925]\n",
      " [ 6841 27639]]\n",
      "Classification Report\n",
      "              precision    recall  f1-score   support\n",
      "\n",
      "           0       0.80      0.80      0.80     34376\n",
      "           1       0.80      0.80      0.80     34480\n",
      "\n",
      "    accuracy                           0.80     68856\n",
      "   macro avg       0.80      0.80      0.80     68856\n",
      "weighted avg       0.80      0.80      0.80     68856\n",
      "\n"
     ]
    }
   ],
   "source": [
    "from sklearn.metrics import classification_report, confusion_matrix\n",
    "\n",
    "print(\"Confusion Matrix:\")\n",
    "print(confusion_matrix(y1_test, ypredtest))\n",
    "print(\"Classification Report\")\n",
    "print(classification_report(y1_test, ypredtest))\n",
    "\n",
    "\n",
    "# Confusion Matrix:\n",
    "# [[27449  6927]\n",
    "#  [ 6843 27637]]"
   ]
  },
  {
   "cell_type": "markdown",
   "metadata": {},
   "source": [
    "#Implementing Linear Regression using Gradient Descent Algorithm for Different Threshold Value at alpha 6.5\n",
    "\n",
    "#Changing the threshold value to 0.0000000001"
   ]
  },
  {
   "cell_type": "code",
   "execution_count": 63,
   "metadata": {},
   "outputs": [
    {
     "name": "stdout",
     "output_type": "stream",
     "text": [
      "Iteration: 0\n",
      "0.6931471805599454\n",
      "Threshold: 1e-10 \n",
      "\n",
      "Loss Function Converges at 24 \n",
      "\n",
      "Model Loss:  0.49035447400925375 \n",
      "\n",
      "Model Weights: \n",
      "[[-1.88226895e-06]\n",
      " [-2.09757261e-07]\n",
      " [-4.32786121e-07]\n",
      " [ 8.35952350e-07]\n",
      " [ 6.42585584e-07]\n",
      " [-8.17018508e-08]\n",
      " [-1.13580914e-07]\n",
      " [ 6.84637023e-09]\n",
      " [ 1.02811473e-08]\n",
      " [ 1.06460457e-06]\n",
      " [ 1.67160287e-07]\n",
      " [ 1.44893466e-08]\n",
      " [ 1.76512816e-07]\n",
      " [ 5.00927541e-08]]\n",
      "alpha: 6.5\n"
     ]
    },
    {
     "data": {
      "image/png": "[encoded data removed]",
      "text/plain": [
       "<Figure size 432x288 with 1 Axes>"
      ]
     },
     "metadata": {},
     "output_type": "display_data"
    },
    {
     "name": "stdout",
     "output_type": "stream",
     "text": [
      "CPU times: user 1.51 s, sys: 24 ms, total: 1.54 s\n",
      "Wall time: 396 ms\n"
     ]
    }
   ],
   "source": [
    "%%time\n",
    "regressor = LogisticRegressor(num_features=x1_train.shape[1])\n",
    "#print(regressor.w)\n",
    "#print(regressor.b)\n",
    "losses = []\n",
    "for iteration in range(10000):\n",
    "    loss = regressor.train(x=x1_train,y=y1_train, step_size=6.5)\n",
    "    losses.append(loss)\n",
    "    if iteration % 1000 == 0:\n",
    "        print(\"Iteration: {}\".format(iteration))\n",
    "        print(loss)\n",
    "    k=0.0000000001\n",
    "    if iteration > 2:\n",
    "        c = abs(losses[iteration-1] - losses[iteration])\n",
    "        if c <= k:\n",
    "            print(\"Threshold:\",k,'\\n')\n",
    "            print(\"Loss Function Converges at\", iteration,'\\n')\n",
    "            print('Model Loss: ', losses[iteration], '\\n')\n",
    "            break\n",
    "\n",
    "print('Model Weights: ');\n",
    "print(regressor.dl_dw);\n",
    "print('alpha:',6.5);\n",
    "plotlog6501 = losses\n",
    "plt.plot(range(len(losses)), losses)\n",
    "plt.xlabel(\"Number of iterations\") \n",
    "plt.ylabel(\"Cost\") \n",
    "plt.show()"
   ]
  },
  {
   "cell_type": "code",
   "execution_count": 64,
   "metadata": {},
   "outputs": [
    {
     "name": "stdout",
     "output_type": "stream",
     "text": [
      "Trial Data: Accuracy for Alpha 6.5 and Threshold 0.0000000001: 0.799812030075188 \n",
      "\n",
      "Test Data: Accuracy for Alpha 6.5 and Threshold 0.0000000001: 0.800075519925642 \n",
      "\n"
     ]
    }
   ],
   "source": [
    "z = np.dot(x1_train, regressor.w)\n",
    "ypredtrain = 1/(1+np.exp(-z))\n",
    "ypredtrain = np.where(ypredtrain > 0.5, 1, 0)\n",
    "acctrain6 = accuracy_score(ypredtrain,y1_train)\n",
    "print('Trial Data: Accuracy for Alpha 6.5 and Threshold 0.0000000001:', acctrain6,'\\n')\n",
    "\n",
    "z = np.dot(x1_test, regressor.w)\n",
    "ypredtest = 1/(1+np.exp(-z))\n",
    "ypredtest = np.where(ypredtest > 0.5, 1, 0)\n",
    "acctest6 = accuracy_score(ypredtest,y1_test)\n",
    "print('Test Data: Accuracy for Alpha 6.5 and Threshold 0.0000000001:', acctest6,'\\n')"
   ]
  },
  {
   "cell_type": "code",
   "execution_count": 65,
   "metadata": {},
   "outputs": [
    {
     "name": "stdout",
     "output_type": "stream",
     "text": [
      "Confusion Matrix:\n",
      "[[27451  6925]\n",
      " [ 6841 27639]]\n",
      "Classification Report\n",
      "              precision    recall  f1-score   support\n",
      "\n",
      "           0       0.80      0.80      0.80     34376\n",
      "           1       0.80      0.80      0.80     34480\n",
      "\n",
      "    accuracy                           0.80     68856\n",
      "   macro avg       0.80      0.80      0.80     68856\n",
      "weighted avg       0.80      0.80      0.80     68856\n",
      "\n"
     ]
    }
   ],
   "source": [
    "print(\"Confusion Matrix:\")\n",
    "print(confusion_matrix(y1_test, ypredtest))\n",
    "print(\"Classification Report\")\n",
    "print(classification_report(y1_test, ypredtest))"
   ]
  },
  {
   "cell_type": "code",
   "execution_count": 66,
   "metadata": {},
   "outputs": [
    {
     "data": {
      "image/png": "[encoded data removed]",
      "text/plain": [
       "<Figure size 432x288 with 1 Axes>"
      ]
     },
     "metadata": {},
     "output_type": "display_data"
    }
   ],
   "source": [
    "plt.plot(range(len(plotlog1)), plotlog1, label = 'alpha = 1')\n",
    "plt.plot(range(len(plotlog5)), plotlog5, label = 'alpha = 5')\n",
    "plt.plot(range(len(plotlog65)), plotlog65, label = 'alpha = 6.5')\n",
    "plt.plot(range(len(plotlog01)), plotlog01, label = 'alpha = 0.1')\n",
    "#plt.plot(range(len(plotlog001)), plotlog001, label = 'alpha = 0.01')\n",
    "plt.legend()\n",
    "plt.xlabel(\"Number of iterations\") \n",
    "plt.ylabel(\"Cost\") \n",
    "plt.show()"
   ]
  },
  {
   "cell_type": "markdown",
   "metadata": {},
   "source": [
    "# Experiment 3"
   ]
  },
  {
   "cell_type": "code",
   "execution_count": 67,
   "metadata": {},
   "outputs": [],
   "source": [
    "varexp3 = [\"MWG\", \"KWG\", \"MDIMC\", \"MDIMA\", \"KWI\", \"VWN\", \"STRN\", \"SA\", \"SB\", \"VWM\", \"avg_runtime\"]\n",
    "datasetexp3 = sgemm2[varexp3]"
   ]
  },
  {
   "cell_type": "code",
   "execution_count": 68,
   "metadata": {},
   "outputs": [
    {
     "data": {
      "text/plain": [
       "DescribeResult(nobs=229520, minmax=(array([23.43]), array([1170.6325])), mean=array([176.0263507]), variance=array([49921.33640155]), skewness=array([2.22402826]), kurtosis=array([4.72951634]))"
      ]
     },
     "execution_count": 68,
     "metadata": {},
     "output_type": "execute_result"
    }
   ],
   "source": [
    "data_np3 = datasetexp3.values\n",
    "x = data_np3[:,:-1]\n",
    "y = data_np3[:,-1:]\n",
    "stat.describe(y)"
   ]
  },
  {
   "cell_type": "code",
   "execution_count": 69,
   "metadata": {},
   "outputs": [],
   "source": [
    "scaler = StandardScaler()"
   ]
  },
  {
   "cell_type": "code",
   "execution_count": 70,
   "metadata": {},
   "outputs": [],
   "source": [
    "x1_train, x1_test, y1_train, y1_test = train_test_split(x, y, test_size = 0.3, random_state = 0)\n",
    "x1_train=scaler.fit_transform(x1_train)\n",
    "x1_test=scaler.transform(x1_test)\n",
    "x1_train=scaler.fit_transform(x1_train)\n",
    "x1_test=scaler.transform(x1_test)"
   ]
  },
  {
   "cell_type": "code",
   "execution_count": 71,
   "metadata": {},
   "outputs": [
    {
     "name": "stdout",
     "output_type": "stream",
     "text": [
      "Threshold: 0 \n",
      "\n",
      "Loss Function Converges at 25 \n",
      "\n",
      "Model Loss:  18041.108062200186 \n",
      "\n",
      "Model Weights: \n",
      "[[-7.74003173e-07]\n",
      " [-2.01665798e-08]\n",
      " [ 2.04296767e-07]\n",
      " [ 4.79376869e-07]\n",
      " [-4.20598685e-09]\n",
      " [ 6.06790541e-09]\n",
      " [ 8.56485689e-10]\n",
      " [-6.18138491e-09]\n",
      " [-6.81515999e-09]\n",
      " [ 8.05665760e-07]]\n",
      "Model Bias: \n",
      "-7.574216445328e-15\n",
      "alpha: 1\n"
     ]
    },
    {
     "data": {
      "image/png": "[encoded data removed]",
      "text/plain": [
       "<Figure size 432x288 with 1 Axes>"
      ]
     },
     "metadata": {},
     "output_type": "display_data"
    },
    {
     "name": "stdout",
     "output_type": "stream",
     "text": [
      "CPU times: user 960 ms, sys: 10.2 ms, total: 971 ms\n",
      "Wall time: 243 ms\n"
     ]
    }
   ],
   "source": [
    "%%time\n",
    "regressor = LinearRegressor(num_features=x1_train.shape[1])\n",
    "#print(regressor.w)\n",
    "#print(regressor.b)\n",
    "losses = []\n",
    "for iteration in range(10000):\n",
    "    loss = regressor.train(x=x1_train,y=y1_train, step_size=1)\n",
    "    losses.append(loss)\n",
    "    k=0;\n",
    "    if iteration > 2:\n",
    "        c = abs(losses[iteration-1] - losses[iteration])\n",
    "        if c <= k:\n",
    "            print(\"Threshold:\",k,'\\n')\n",
    "            print(\"Loss Function Converges at\", iteration,'\\n')\n",
    "            print('Model Loss: ', losses[iteration], '\\n')\n",
    "            break\n",
    "\n",
    "print('Model Weights: ');\n",
    "print(regressor.dl_dw);\n",
    "print('Model Bias: ');\n",
    "print(regressor.dl_db)\n",
    "print('alpha:',1);\n",
    "plt.plot(range(len(losses)), losses)\n",
    "plt.xlabel(\"Number of iterations\") \n",
    "plt.ylabel(\"Cost\") \n",
    "plt.show()"
   ]
  },
  {
   "cell_type": "code",
   "execution_count": 72,
   "metadata": {},
   "outputs": [
    {
     "name": "stdout",
     "output_type": "stream",
     "text": [
      "Test Data: MSE for Alpha 0.1: 189.64956334002204 \n",
      "\n",
      "Trial Data: MSE for Alpha 0.1: 189.9531945622404 \n",
      "\n",
      "R-Squared: 0.2760862609420548 \n",
      "\n"
     ]
    }
   ],
   "source": [
    "msetest1 = regressor.evaluate(x=x1_test, y=y1_test)\n",
    "msetrial1 = regressor.evaluate(x=x1_train, y=y1_train)\n",
    "print('Test Data: MSE for Alpha 0.1:', msetest1,'\\n')\n",
    "print('Trial Data: MSE for Alpha 0.1:', msetrial1,'\\n')\n",
    "print('R-Squared:', rsquared(y1_test,regressor.forward(x1_test)), '\\n')"
   ]
  },
  {
   "cell_type": "code",
   "execution_count": 73,
   "metadata": {},
   "outputs": [
    {
     "name": "stdout",
     "output_type": "stream",
     "text": [
      "Threshold: 0 \n",
      "\n",
      "Loss Function Converges at 304 \n",
      "\n",
      "Model Loss:  18041.10806220023 \n",
      "\n",
      "Model Weights: \n",
      "[[-4.22331612e-06]\n",
      " [-1.06744170e-07]\n",
      " [ 1.12567371e-06]\n",
      " [ 2.61800031e-06]\n",
      " [-2.28666491e-08]\n",
      " [ 3.25136302e-08]\n",
      " [ 4.69454716e-09]\n",
      " [-3.30197614e-08]\n",
      " [-3.65192563e-08]\n",
      " [ 4.36674137e-06]]\n",
      "Model Bias: \n",
      "-2.1706753309617366e-12\n",
      "alpha: 0.1\n"
     ]
    },
    {
     "data": {
      "image/png": "[encoded data removed]",
      "text/plain": [
       "<Figure size 432x288 with 1 Axes>"
      ]
     },
     "metadata": {},
     "output_type": "display_data"
    },
    {
     "name": "stdout",
     "output_type": "stream",
     "text": [
      "CPU times: user 2.81 s, sys: 15.7 ms, total: 2.82 s\n",
      "Wall time: 706 ms\n"
     ]
    }
   ],
   "source": [
    "%%time\n",
    "regressor = LinearRegressor(num_features=x1_train.shape[1])\n",
    "#print(regressor.w)\n",
    "#print(regressor.b)\n",
    "losses = []\n",
    "for iteration in range(10000):\n",
    "    loss = regressor.train(x=x1_train,y=y1_train, step_size=0.1)\n",
    "    losses.append(loss)\n",
    "    k=0;\n",
    "    if iteration > 2:\n",
    "        c = abs(losses[iteration-1] - losses[iteration])\n",
    "        if c <= k:\n",
    "            print(\"Threshold:\",k,'\\n')\n",
    "            print(\"Loss Function Converges at\", iteration,'\\n')\n",
    "            print('Model Loss: ', losses[iteration], '\\n')\n",
    "            break\n",
    "\n",
    "print('Model Weights: ');\n",
    "print(regressor.dl_dw);\n",
    "print('Model Bias: ');\n",
    "print(regressor.dl_db)\n",
    "print('alpha:',0.1);\n",
    "plt.plot(range(len(losses)), losses)\n",
    "plt.xlabel(\"Number of iterations\") \n",
    "plt.ylabel(\"Cost\") \n",
    "plt.show()"
   ]
  },
  {
   "cell_type": "code",
   "execution_count": 74,
   "metadata": {},
   "outputs": [
    {
     "name": "stdout",
     "output_type": "stream",
     "text": [
      "Test Data: MSE for Alpha 0.1: 189.649563344546 \n",
      "\n",
      "Trial Data: MSE for Alpha 0.1: 189.95319456224064 \n",
      "\n",
      "R-Squared: 0.27608626090751753 \n",
      "\n"
     ]
    }
   ],
   "source": [
    "msetest2 = regressor.evaluate(x=x1_test, y=y1_test)\n",
    "msetrial2 = regressor.evaluate(x=x1_train, y=y1_train)\n",
    "print('Test Data: MSE for Alpha 0.1:', msetest2,'\\n')\n",
    "print('Trial Data: MSE for Alpha 0.1:', msetrial2,'\\n')\n",
    "print('R-Squared:', rsquared(y1_test,regressor.forward(x1_test)), '\\n')"
   ]
  },
  {
   "cell_type": "code",
   "execution_count": 75,
   "metadata": {},
   "outputs": [],
   "source": [
    "#Logistic Regression"
   ]
  },
  {
   "cell_type": "code",
   "execution_count": 76,
   "metadata": {},
   "outputs": [],
   "source": [
    "ylogist = np.where(y > 69.79, 1, 0)"
   ]
  },
  {
   "cell_type": "code",
   "execution_count": 77,
   "metadata": {},
   "outputs": [],
   "source": [
    "x1_train, x1_test, y1_train, y1_test = train_test_split(x, ylogist, test_size = 0.3, random_state = 0)\n",
    "x1_train=scaler.fit_transform(x1_train)\n",
    "x1_test=scaler.transform(x1_test)\n",
    "x1_train=scaler.fit_transform(x1_train)\n",
    "x1_test=scaler.transform(x1_test)"
   ]
  },
  {
   "cell_type": "code",
   "execution_count": 78,
   "metadata": {},
   "outputs": [
    {
     "name": "stdout",
     "output_type": "stream",
     "text": [
      "Iteration: 0\n",
      "0.6931471805599454\n",
      "Threshold: 0 \n",
      "\n",
      "Loss Function Converges at 180 \n",
      "\n",
      "Model Loss:  0.5618043440732273 \n",
      "\n",
      "Model Weights: \n",
      "[[-9.67727283e-09]\n",
      " [-5.67449911e-10]\n",
      " [ 5.08088811e-09]\n",
      " [ 4.33155631e-09]\n",
      " [ 9.98601114e-12]\n",
      " [-1.02185487e-09]\n",
      " [ 1.18297385e-10]\n",
      " [ 1.35252850e-09]\n",
      " [ 2.77919466e-10]\n",
      " [ 7.74585819e-09]]\n",
      "alpha: 1\n"
     ]
    },
    {
     "data": {
      "image/png": "[encoded data removed]",
      "text/plain": [
       "<Figure size 432x288 with 1 Axes>"
      ]
     },
     "metadata": {},
     "output_type": "display_data"
    },
    {
     "name": "stdout",
     "output_type": "stream",
     "text": [
      "CPU times: user 5.56 s, sys: 75.4 ms, total: 5.64 s\n",
      "Wall time: 1.42 s\n"
     ]
    }
   ],
   "source": [
    "%%time\n",
    "regressor = LogisticRegressor(num_features=x1_train.shape[1])\n",
    "#print(regressor.w)\n",
    "#print(regressor.b)\n",
    "losses = []\n",
    "for iteration in range(10000):\n",
    "    loss = regressor.train(x=x1_train,y=y1_train, step_size=1)\n",
    "    losses.append(loss)\n",
    "    if iteration % 1000 == 0:\n",
    "        print(\"Iteration: {}\".format(iteration))\n",
    "        print(loss)\n",
    "    k=0;\n",
    "    if iteration > 2:\n",
    "        c = abs(losses[iteration-1] - losses[iteration])\n",
    "        if c <= k:\n",
    "            print(\"Threshold:\",k,'\\n')\n",
    "            print(\"Loss Function Converges at\", iteration,'\\n')\n",
    "            print('Model Loss: ', losses[iteration], '\\n')\n",
    "            break\n",
    "\n",
    "print('Model Weights: ');\n",
    "print(regressor.dl_dw);\n",
    "print('alpha:',1);\n",
    "plt.plot(range(len(losses)), losses)\n",
    "plt.xlabel(\"Number of iterations\") \n",
    "plt.ylabel(\"Cost\") \n",
    "plt.show()"
   ]
  },
  {
   "cell_type": "code",
   "execution_count": 79,
   "metadata": {},
   "outputs": [
    {
     "name": "stdout",
     "output_type": "stream",
     "text": [
      "Trial Data: Accuracy for Alpha 1 and Threshold 0: 0.7254145297017378 \n",
      "\n",
      "Test Data: Accuracy for Alpha 1 and Threshold 0: 0.7250493784129197 \n",
      "\n"
     ]
    }
   ],
   "source": [
    "z = np.dot(x1_train, regressor.w)\n",
    "ypredtrain = 1/(1+np.exp(-z))\n",
    "ypredtrain = np.where(ypredtrain > 0.5, 1, 0)\n",
    "acctrain7 = accuracy_score(ypredtrain,y1_train)\n",
    "print('Trial Data: Accuracy for Alpha 1 and Threshold 0:', acctrain7,'\\n')\n",
    "\n",
    "z = np.dot(x1_test, regressor.w)\n",
    "ypredtest = 1/(1+np.exp(-z))\n",
    "ypredtest = np.where(ypredtest > 0.5, 1, 0)\n",
    "acctest7 = accuracy_score(ypredtest,y1_test)\n",
    "print('Test Data: Accuracy for Alpha 1 and Threshold 0:', acctest7,'\\n')"
   ]
  },
  {
   "cell_type": "code",
   "execution_count": 80,
   "metadata": {},
   "outputs": [
    {
     "name": "stdout",
     "output_type": "stream",
     "text": [
      "Confusion Matrix:\n",
      "[[25798  8578]\n",
      " [10354 24126]]\n",
      "Classification Report\n",
      "              precision    recall  f1-score   support\n",
      "\n",
      "           0       0.71      0.75      0.73     34376\n",
      "           1       0.74      0.70      0.72     34480\n",
      "\n",
      "    accuracy                           0.73     68856\n",
      "   macro avg       0.73      0.73      0.72     68856\n",
      "weighted avg       0.73      0.73      0.72     68856\n",
      "\n"
     ]
    }
   ],
   "source": [
    "print(\"Confusion Matrix:\")\n",
    "print(confusion_matrix(y1_test, ypredtest))\n",
    "print(\"Classification Report\")\n",
    "print(classification_report(y1_test, ypredtest))"
   ]
  },
  {
   "cell_type": "code",
   "execution_count": 81,
   "metadata": {},
   "outputs": [
    {
     "name": "stdout",
     "output_type": "stream",
     "text": [
      "Iteration: 0\n",
      "0.6931471805599454\n",
      "Threshold: 0 \n",
      "\n",
      "Loss Function Converges at 62 \n",
      "\n",
      "Model Loss:  0.561804344073226 \n",
      "\n",
      "Model Weights: \n",
      "[[-2.12472638e-09]\n",
      " [-7.06785421e-10]\n",
      " [-1.80810930e-09]\n",
      " [-1.38062748e-09]\n",
      " [ 1.12103110e-11]\n",
      " [ 3.09262802e-10]\n",
      " [-1.33640174e-11]\n",
      " [-4.77133576e-10]\n",
      " [ 2.94349106e-11]\n",
      " [-6.24967346e-10]]\n",
      "alpha: 6.5\n"
     ]
    },
    {
     "data": {
      "image/png": "[encoded data removed]",
      "text/plain": [
       "<Figure size 432x288 with 1 Axes>"
      ]
     },
     "metadata": {},
     "output_type": "display_data"
    },
    {
     "name": "stdout",
     "output_type": "stream",
     "text": [
      "CPU times: user 2.57 s, sys: 39.1 ms, total: 2.61 s\n",
      "Wall time: 661 ms\n"
     ]
    }
   ],
   "source": [
    "%%time\n",
    "regressor = LogisticRegressor(num_features=x1_train.shape[1])\n",
    "#print(regressor.w)\n",
    "#print(regressor.b)\n",
    "losses = []\n",
    "for iteration in range(10000):\n",
    "    loss = regressor.train(x=x1_train,y=y1_train, step_size=6.5)\n",
    "    losses.append(loss)\n",
    "    if iteration % 1000 == 0:\n",
    "        print(\"Iteration: {}\".format(iteration))\n",
    "        print(loss)\n",
    "    k=0;\n",
    "    if iteration > 2:\n",
    "        c = abs(losses[iteration-1] - losses[iteration])\n",
    "        if c <= k:\n",
    "            print(\"Threshold:\",k,'\\n')\n",
    "            print(\"Loss Function Converges at\", iteration,'\\n')\n",
    "            print('Model Loss: ', losses[iteration], '\\n')\n",
    "            break\n",
    "\n",
    "print('Model Weights: ');\n",
    "print(regressor.dl_dw);\n",
    "print('alpha:',6.5);\n",
    "plt.plot(range(len(losses)), losses)\n",
    "plt.xlabel(\"Number of iterations\") \n",
    "plt.ylabel(\"Cost\") \n",
    "plt.show()"
   ]
  },
  {
   "cell_type": "code",
   "execution_count": 82,
   "metadata": {},
   "outputs": [
    {
     "name": "stdout",
     "output_type": "stream",
     "text": [
      "Trial Data: Accuracy for Alpha 6.5 and Threshold 0: 0.7254145297017378 \n",
      "\n",
      "Test Data: Accuracy for Alpha 6.5 and Threshold 0: 0.7250493784129197 \n",
      "\n"
     ]
    }
   ],
   "source": [
    "z = np.dot(x1_train, regressor.w)\n",
    "ypredtrain = 1/(1+np.exp(-z))\n",
    "ypredtrain = np.where(ypredtrain > 0.5, 1, 0)\n",
    "acctrain7 = accuracy_score(ypredtrain,y1_train)\n",
    "print('Trial Data: Accuracy for Alpha 6.5 and Threshold 0:', acctrain7,'\\n')\n",
    "\n",
    "z = np.dot(x1_test, regressor.w)\n",
    "ypredtest = 1/(1+np.exp(-z))\n",
    "ypredtest = np.where(ypredtest > 0.5, 1, 0)\n",
    "acctest7 = accuracy_score(ypredtest,y1_test)\n",
    "print('Test Data: Accuracy for Alpha 6.5 and Threshold 0:', acctest7,'\\n')"
   ]
  },
  {
   "cell_type": "code",
   "execution_count": 83,
   "metadata": {},
   "outputs": [
    {
     "name": "stdout",
     "output_type": "stream",
     "text": [
      "Confusion Matrix:\n",
      "[[25798  8578]\n",
      " [10354 24126]]\n",
      "Classification Report\n",
      "              precision    recall  f1-score   support\n",
      "\n",
      "           0       0.71      0.75      0.73     34376\n",
      "           1       0.74      0.70      0.72     34480\n",
      "\n",
      "    accuracy                           0.73     68856\n",
      "   macro avg       0.73      0.73      0.72     68856\n",
      "weighted avg       0.73      0.73      0.72     68856\n",
      "\n"
     ]
    }
   ],
   "source": [
    "print(\"Confusion Matrix:\")\n",
    "print(confusion_matrix(y1_test, ypredtest))\n",
    "print(\"Classification Report\")\n",
    "print(classification_report(y1_test, ypredtest))"
   ]
  },
  {
   "cell_type": "markdown",
   "metadata": {},
   "source": [
    "# EXPERIMENT 4"
   ]
  },
  {
   "cell_type": "code",
   "execution_count": 84,
   "metadata": {},
   "outputs": [],
   "source": [
    "varexp4 = [\"MWG\",\"NWG\",\"KWG\",\"MDIMC\",\"NDIMC\",\"MDIMA\",\"NDIMB\",\"VWN\",\"STRM\",\"SA\",\"avg_runtime\"]\n",
    "datasetexp4 = sgemm2[varexp4]"
   ]
  },
  {
   "cell_type": "code",
   "execution_count": 85,
   "metadata": {},
   "outputs": [
    {
     "data": {
      "text/html": [
       "<div>\n",
       "<style scoped>\n",
       "    .dataframe tbody tr th:only-of-type {\n",
       "        vertical-align: middle;\n",
       "    }\n",
       "\n",
       "    .dataframe tbody tr th {\n",
       "        vertical-align: top;\n",
       "    }\n",
       "\n",
       "    .dataframe thead th {\n",
       "        text-align: right;\n",
       "    }\n",
       "</style>\n",
       "<table border=\"1\" class=\"dataframe\">\n",
       "  <thead>\n",
       "    <tr style=\"text-align: right;\">\n",
       "      <th></th>\n",
       "      <th>MWG</th>\n",
       "      <th>NWG</th>\n",
       "      <th>KWG</th>\n",
       "      <th>MDIMC</th>\n",
       "      <th>NDIMC</th>\n",
       "      <th>MDIMA</th>\n",
       "      <th>NDIMB</th>\n",
       "      <th>VWN</th>\n",
       "      <th>STRM</th>\n",
       "      <th>SA</th>\n",
       "      <th>avg_runtime</th>\n",
       "    </tr>\n",
       "  </thead>\n",
       "  <tbody>\n",
       "    <tr>\n",
       "      <td>count</td>\n",
       "      <td>229520.000000</td>\n",
       "      <td>229520.000000</td>\n",
       "      <td>229520.000000</td>\n",
       "      <td>229520.000000</td>\n",
       "      <td>229520.000000</td>\n",
       "      <td>229520.000000</td>\n",
       "      <td>229520.000000</td>\n",
       "      <td>229520.000000</td>\n",
       "      <td>229520.000000</td>\n",
       "      <td>229520.000000</td>\n",
       "      <td>229520.000000</td>\n",
       "    </tr>\n",
       "    <tr>\n",
       "      <td>mean</td>\n",
       "      <td>79.503799</td>\n",
       "      <td>79.212130</td>\n",
       "      <td>25.532659</td>\n",
       "      <td>14.048100</td>\n",
       "      <td>13.960404</td>\n",
       "      <td>17.282921</td>\n",
       "      <td>17.278913</td>\n",
       "      <td>2.417005</td>\n",
       "      <td>0.495674</td>\n",
       "      <td>0.481322</td>\n",
       "      <td>176.026351</td>\n",
       "    </tr>\n",
       "    <tr>\n",
       "      <td>std</td>\n",
       "      <td>42.590214</td>\n",
       "      <td>42.551021</td>\n",
       "      <td>7.851829</td>\n",
       "      <td>7.884239</td>\n",
       "      <td>7.836359</td>\n",
       "      <td>9.366788</td>\n",
       "      <td>9.365922</td>\n",
       "      <td>1.942145</td>\n",
       "      <td>0.499982</td>\n",
       "      <td>0.499652</td>\n",
       "      <td>223.430831</td>\n",
       "    </tr>\n",
       "    <tr>\n",
       "      <td>min</td>\n",
       "      <td>16.000000</td>\n",
       "      <td>16.000000</td>\n",
       "      <td>16.000000</td>\n",
       "      <td>8.000000</td>\n",
       "      <td>8.000000</td>\n",
       "      <td>8.000000</td>\n",
       "      <td>8.000000</td>\n",
       "      <td>1.000000</td>\n",
       "      <td>0.000000</td>\n",
       "      <td>0.000000</td>\n",
       "      <td>23.430000</td>\n",
       "    </tr>\n",
       "    <tr>\n",
       "      <td>25%</td>\n",
       "      <td>32.000000</td>\n",
       "      <td>32.000000</td>\n",
       "      <td>16.000000</td>\n",
       "      <td>8.000000</td>\n",
       "      <td>8.000000</td>\n",
       "      <td>8.000000</td>\n",
       "      <td>8.000000</td>\n",
       "      <td>1.000000</td>\n",
       "      <td>0.000000</td>\n",
       "      <td>0.000000</td>\n",
       "      <td>41.410000</td>\n",
       "    </tr>\n",
       "    <tr>\n",
       "      <td>50%</td>\n",
       "      <td>64.000000</td>\n",
       "      <td>64.000000</td>\n",
       "      <td>32.000000</td>\n",
       "      <td>8.000000</td>\n",
       "      <td>8.000000</td>\n",
       "      <td>16.000000</td>\n",
       "      <td>16.000000</td>\n",
       "      <td>2.000000</td>\n",
       "      <td>0.000000</td>\n",
       "      <td>0.000000</td>\n",
       "      <td>69.790000</td>\n",
       "    </tr>\n",
       "    <tr>\n",
       "      <td>75%</td>\n",
       "      <td>128.000000</td>\n",
       "      <td>128.000000</td>\n",
       "      <td>32.000000</td>\n",
       "      <td>16.000000</td>\n",
       "      <td>16.000000</td>\n",
       "      <td>32.000000</td>\n",
       "      <td>32.000000</td>\n",
       "      <td>4.000000</td>\n",
       "      <td>1.000000</td>\n",
       "      <td>1.000000</td>\n",
       "      <td>216.623125</td>\n",
       "    </tr>\n",
       "    <tr>\n",
       "      <td>max</td>\n",
       "      <td>128.000000</td>\n",
       "      <td>128.000000</td>\n",
       "      <td>32.000000</td>\n",
       "      <td>32.000000</td>\n",
       "      <td>32.000000</td>\n",
       "      <td>32.000000</td>\n",
       "      <td>32.000000</td>\n",
       "      <td>8.000000</td>\n",
       "      <td>1.000000</td>\n",
       "      <td>1.000000</td>\n",
       "      <td>1170.632500</td>\n",
       "    </tr>\n",
       "  </tbody>\n",
       "</table>\n",
       "</div>"
      ],
      "text/plain": [
       "                 MWG            NWG            KWG          MDIMC  \\\n",
       "count  229520.000000  229520.000000  229520.000000  229520.000000   \n",
       "mean       79.503799      79.212130      25.532659      14.048100   \n",
       "std        42.590214      42.551021       7.851829       7.884239   \n",
       "min        16.000000      16.000000      16.000000       8.000000   \n",
       "25%        32.000000      32.000000      16.000000       8.000000   \n",
       "50%        64.000000      64.000000      32.000000       8.000000   \n",
       "75%       128.000000     128.000000      32.000000      16.000000   \n",
       "max       128.000000     128.000000      32.000000      32.000000   \n",
       "\n",
       "               NDIMC          MDIMA          NDIMB            VWN  \\\n",
       "count  229520.000000  229520.000000  229520.000000  229520.000000   \n",
       "mean       13.960404      17.282921      17.278913       2.417005   \n",
       "std         7.836359       9.366788       9.365922       1.942145   \n",
       "min         8.000000       8.000000       8.000000       1.000000   \n",
       "25%         8.000000       8.000000       8.000000       1.000000   \n",
       "50%         8.000000      16.000000      16.000000       2.000000   \n",
       "75%        16.000000      32.000000      32.000000       4.000000   \n",
       "max        32.000000      32.000000      32.000000       8.000000   \n",
       "\n",
       "                STRM             SA    avg_runtime  \n",
       "count  229520.000000  229520.000000  229520.000000  \n",
       "mean        0.495674       0.481322     176.026351  \n",
       "std         0.499982       0.499652     223.430831  \n",
       "min         0.000000       0.000000      23.430000  \n",
       "25%         0.000000       0.000000      41.410000  \n",
       "50%         0.000000       0.000000      69.790000  \n",
       "75%         1.000000       1.000000     216.623125  \n",
       "max         1.000000       1.000000    1170.632500  "
      ]
     },
     "execution_count": 85,
     "metadata": {},
     "output_type": "execute_result"
    }
   ],
   "source": [
    "datasetexp4.describe()"
   ]
  },
  {
   "cell_type": "code",
   "execution_count": 86,
   "metadata": {},
   "outputs": [
    {
     "data": {
      "text/plain": [
       "DescribeResult(nobs=229520, minmax=(array([23.43]), array([1170.6325])), mean=array([176.0263507]), variance=array([49921.33640155]), skewness=array([2.22402826]), kurtosis=array([4.72951634]))"
      ]
     },
     "execution_count": 86,
     "metadata": {},
     "output_type": "execute_result"
    }
   ],
   "source": [
    "data_np4 = datasetexp4.values\n",
    "x = data_np4[:,:-1]\n",
    "y = data_np4[:,-1:]\n",
    "stat.describe(y)"
   ]
  },
  {
   "cell_type": "code",
   "execution_count": 87,
   "metadata": {},
   "outputs": [],
   "source": [
    "scaler = StandardScaler()"
   ]
  },
  {
   "cell_type": "code",
   "execution_count": 88,
   "metadata": {},
   "outputs": [],
   "source": [
    "x1_train, x1_test, y1_train, y1_test = train_test_split(x, y, test_size = 0.3, random_state = 0)\n",
    "x1_train=scaler.fit_transform(x1_train)\n",
    "x1_test=scaler.transform(x1_test)\n",
    "x1_train=scaler.fit_transform(x1_train)\n",
    "x1_test=scaler.transform(x1_test)"
   ]
  },
  {
   "cell_type": "code",
   "execution_count": 89,
   "metadata": {},
   "outputs": [
    {
     "name": "stdout",
     "output_type": "stream",
     "text": [
      "Threshold: 0 \n",
      "\n",
      "Loss Function Converges at 31 \n",
      "\n",
      "Model Loss:  12785.407297261758 \n",
      "\n",
      "Model Weights: \n",
      "[[-1.41233800e-09]\n",
      " [-1.81272873e-08]\n",
      " [-9.09566875e-09]\n",
      " [ 1.23204771e-08]\n",
      " [ 1.64172673e-08]\n",
      " [-7.33100894e-09]\n",
      " [ 5.20289675e-09]\n",
      " [ 1.82103785e-08]\n",
      " [ 2.89715341e-10]\n",
      " [-5.03847425e-10]]\n",
      "Model Bias: \n",
      "-3.453118110351331e-15\n",
      "alpha: 1\n"
     ]
    },
    {
     "data": {
      "image/png": "[encoded data removed]",
      "text/plain": [
       "<Figure size 432x288 with 1 Axes>"
      ]
     },
     "metadata": {},
     "output_type": "display_data"
    },
    {
     "name": "stdout",
     "output_type": "stream",
     "text": [
      "CPU times: user 1.03 s, sys: 10.6 ms, total: 1.04 s\n",
      "Wall time: 269 ms\n"
     ]
    }
   ],
   "source": [
    "%%time\n",
    "regressor = LinearRegressor(num_features=x1_train.shape[1])\n",
    "#print(regressor.w)\n",
    "#print(regressor.b)\n",
    "losses = []\n",
    "for iteration in range(10000):\n",
    "    loss = regressor.train(x=x1_train,y=y1_train, step_size=1)\n",
    "    losses.append(loss)\n",
    "    k=0;\n",
    "    if iteration > 2:\n",
    "        c = abs(losses[iteration-1] - losses[iteration])\n",
    "        if c <= k:\n",
    "            print(\"Threshold:\",k,'\\n')\n",
    "            print(\"Loss Function Converges at\", iteration,'\\n')\n",
    "            print('Model Loss: ', losses[iteration], '\\n')\n",
    "            break\n",
    "\n",
    "print('Model Weights: ');\n",
    "print(regressor.dl_dw);\n",
    "print('Model Bias: ');\n",
    "print(regressor.dl_db)\n",
    "print('alpha:',1);\n",
    "plt.plot(range(len(losses)), losses)\n",
    "plt.xlabel(\"Number of iterations\") \n",
    "plt.ylabel(\"Cost\") \n",
    "plt.show()"
   ]
  },
  {
   "cell_type": "code",
   "execution_count": 90,
   "metadata": {},
   "outputs": [
    {
     "name": "stdout",
     "output_type": "stream",
     "text": [
      "Test Data: MSE for Alpha 1: 159.48094646514718 \n",
      "\n",
      "Trial Data: MSE for Alpha 1: 159.90876959855427 \n",
      "\n",
      "R-Squared: 0.48808160715569326 \n",
      "\n"
     ]
    }
   ],
   "source": [
    "msetest1 = regressor.evaluate(x=x1_test, y=y1_test)\n",
    "msetrial1 = regressor.evaluate(x=x1_train, y=y1_train)\n",
    "print('Test Data: MSE for Alpha 1:', msetest1,'\\n')\n",
    "print('Trial Data: MSE for Alpha 1:', msetrial1,'\\n')\n",
    "print('R-Squared:', rsquared(y1_test,regressor.forward(x1_test)), '\\n')"
   ]
  },
  {
   "cell_type": "code",
   "execution_count": 91,
   "metadata": {},
   "outputs": [],
   "source": [
    "#Logistic Regression"
   ]
  },
  {
   "cell_type": "code",
   "execution_count": 92,
   "metadata": {},
   "outputs": [],
   "source": [
    "ylogist = np.where(y > 69.79, 1, 0)"
   ]
  },
  {
   "cell_type": "code",
   "execution_count": 93,
   "metadata": {},
   "outputs": [],
   "source": [
    "x1_train, x1_test, y1_train, y1_test = train_test_split(x, ylogist, test_size = 0.3, random_state = 0)\n",
    "x1_train=scaler.fit_transform(x1_train)\n",
    "x1_test=scaler.transform(x1_test)\n",
    "x1_train=scaler.fit_transform(x1_train)\n",
    "x1_test=scaler.transform(x1_test)"
   ]
  },
  {
   "cell_type": "code",
   "execution_count": 94,
   "metadata": {},
   "outputs": [
    {
     "name": "stdout",
     "output_type": "stream",
     "text": [
      "Iteration: 0\n",
      "0.6931471805599454\n",
      "Threshold: 0 \n",
      "\n",
      "Loss Function Converges at 269 \n",
      "\n",
      "Model Loss:  0.49111362695195165 \n",
      "\n",
      "Model Weights: \n",
      "[[-5.70396902e-09]\n",
      " [-6.01764069e-09]\n",
      " [-2.43160803e-09]\n",
      " [ 6.23934405e-09]\n",
      " [ 6.26556019e-09]\n",
      " [-8.74372894e-10]\n",
      " [ 6.00612571e-10]\n",
      " [ 3.33107801e-09]\n",
      " [ 1.51265947e-09]\n",
      " [ 1.80231943e-09]]\n",
      "alpha: 1\n"
     ]
    },
    {
     "data": {
      "image/png": "[encoded data removed]",
      "text/plain": [
       "<Figure size 432x288 with 1 Axes>"
      ]
     },
     "metadata": {},
     "output_type": "display_data"
    },
    {
     "name": "stdout",
     "output_type": "stream",
     "text": [
      "CPU times: user 8.22 s, sys: 115 ms, total: 8.33 s\n",
      "Wall time: 2.1 s\n"
     ]
    }
   ],
   "source": [
    "%%time\n",
    "regressor = LogisticRegressor(num_features=x1_train.shape[1])\n",
    "#print(regressor.w)\n",
    "#print(regressor.b)\n",
    "losses = []\n",
    "for iteration in range(10000):\n",
    "    loss = regressor.train(x=x1_train,y=y1_train, step_size=1)\n",
    "    losses.append(loss)\n",
    "    if iteration % 1000 == 0:\n",
    "        print(\"Iteration: {}\".format(iteration))\n",
    "        print(loss)\n",
    "    k=0;\n",
    "    if iteration > 2:\n",
    "        c = abs(losses[iteration-1] - losses[iteration])\n",
    "        if c <= k:\n",
    "            print(\"Threshold:\",k,'\\n')\n",
    "            print(\"Loss Function Converges at\", iteration,'\\n')\n",
    "            print('Model Loss: ', losses[iteration], '\\n')\n",
    "            break\n",
    "\n",
    "print('Model Weights: ');\n",
    "print(regressor.dl_dw);\n",
    "print('alpha:',1);\n",
    "plt.plot(range(len(losses)), losses)\n",
    "plt.xlabel(\"Number of iterations\") \n",
    "plt.ylabel(\"Cost\") \n",
    "plt.show()"
   ]
  },
  {
   "cell_type": "code",
   "execution_count": 95,
   "metadata": {},
   "outputs": [
    {
     "name": "stdout",
     "output_type": "stream",
     "text": [
      "Trial Data: Accuracy for Alpha 1 and Threshold 0: 0.8003971020265896 \n",
      "\n",
      "Test Data: Accuracy for Alpha 1 and Threshold 0: 0.8012518879981411 \n",
      "\n"
     ]
    }
   ],
   "source": [
    "z = np.dot(x1_train, regressor.w)\n",
    "ypredtrain = 1/(1+np.exp(-z))\n",
    "ypredtrain = np.where(ypredtrain > 0.5, 1, 0)\n",
    "acctrain = accuracy_score(ypredtrain,y1_train)\n",
    "print('Trial Data: Accuracy for Alpha 1 and Threshold 0:', acctrain,'\\n')\n",
    "\n",
    "z = np.dot(x1_test, regressor.w)\n",
    "ypredtest = 1/(1+np.exp(-z))\n",
    "ypredtest = np.where(ypredtest > 0.5, 1, 0)\n",
    "acctest = accuracy_score(ypredtest,y1_test)\n",
    "print('Test Data: Accuracy for Alpha 1 and Threshold 0:', acctest,'\\n')"
   ]
  },
  {
   "cell_type": "code",
   "execution_count": 96,
   "metadata": {},
   "outputs": [
    {
     "name": "stdout",
     "output_type": "stream",
     "text": [
      "Confusion Matrix:\n",
      "[[27449  6927]\n",
      " [ 6758 27722]]\n",
      "Classification Report\n",
      "              precision    recall  f1-score   support\n",
      "\n",
      "           0       0.80      0.80      0.80     34376\n",
      "           1       0.80      0.80      0.80     34480\n",
      "\n",
      "    accuracy                           0.80     68856\n",
      "   macro avg       0.80      0.80      0.80     68856\n",
      "weighted avg       0.80      0.80      0.80     68856\n",
      "\n"
     ]
    }
   ],
   "source": [
    "print(\"Confusion Matrix:\")\n",
    "print(confusion_matrix(y1_test, ypredtest))\n",
    "print(\"Classification Report\")\n",
    "print(classification_report(y1_test, ypredtest))"
   ]
  },
  {
   "cell_type": "code",
   "execution_count": null,
   "metadata": {},
   "outputs": [],
   "source": []
  }
 ],
 "metadata": {
  "kernelspec": {
   "display_name": "Python 3",
   "language": "python",
   "name": "python3"
  },
  "language_info": {
   "codemirror_mode": {
    "name": "ipython",
    "version": 3
   },
   "file_extension": ".py",
   "mimetype": "text/x-python",
   "name": "python",
   "nbconvert_exporter": "python",
   "pygments_lexer": "ipython3",
   "version": "3.7.4"
  }
 },
 "nbformat": 4,
 "nbformat_minor": 4
}
